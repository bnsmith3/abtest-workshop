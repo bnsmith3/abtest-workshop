{
  "cells": [
    {
      "metadata": {
        "collapsed": true,
        "slideshow": {
          "slide_type": "slide"
        }
      },
      "cell_type": "markdown",
      "source": "# Spring 2019 AB Testing Workshop\n![alt text](fig/logo.png \"Title\")\n\n[http://novadataschool.com](http://novadataschool.com)"
    },
    {
      "metadata": {
        "slideshow": {
          "slide_type": "slide"
        }
      },
      "cell_type": "markdown",
      "source": "## Vadim Sokolov\n- Professor in data science at George Mason University\n\n- Lecturer in data analytics at University of Chicago\n\n- Computational Scientist at Argonne National Laboratory/University of Chicago\n\n- PhD Computational Mathematics at Northern Illinois\n"
    },
    {
      "metadata": {
        "slideshow": {
          "slide_type": "slide"
        }
      },
      "cell_type": "markdown",
      "source": "# What will you learn today?\n- A few words about us\n- Basics of R (arithmetic operations and data operations)\n- Data manipulation techniques\n- Random variables \n- Confidence intervals methodology\n- We will apply those skills to analyze data set from a mobile game to decide on optimal game design\n\n"
    },
    {
      "metadata": {
        "slideshow": {
          "slide_type": "slide"
        }
      },
      "cell_type": "markdown",
      "source": "# NOVA is about\n- Develop new skills\n- Change careers\n- Get promoted\n\n \n&nbsp;\n \n\n\n<center><font color=green size=7>OPPORTUNITY</font></center>\n\n&nbsp;\n\n<center>The more you LEARN, the more you EARN!</center>\n"
    },
    {
      "metadata": {
        "slideshow": {
          "slide_type": "slide"
        }
      },
      "cell_type": "markdown",
      "source": "# Did you know according to Forbes Technology Council?\n<center><img src=\"fig/forbes.png\" width=\"600\"></center>\n\n1. Experience with AI\n2. Skills to Envision, Design, and Develop AR Apps\n3. Data Science Talent\n"
    },
    {
      "metadata": {
        "slideshow": {
          "slide_type": "slide"
        }
      },
      "cell_type": "markdown",
      "source": "# Did you know according to Glassdoor?\n<center><img src=\"fig/glassdoor.png\" width=\"700\"></center>\n\n"
    },
    {
      "metadata": {
        "slideshow": {
          "slide_type": "slide"
        }
      },
      "cell_type": "markdown",
      "source": "# How Do We Learn?\n<center><img src=\"fig/mindshift.png\" width=\"500\"></center>\n\n\nMindshift: Break Through Obstacles to Learning and Discover Your Hidden Potential \n\nby Barbara Oakley PhD\n\n"
    },
    {
      "metadata": {
        "slideshow": {
          "slide_type": "slide"
        }
      },
      "cell_type": "markdown",
      "source": "# How NOVA Data School Helps You\n- 12 week on-the-ground bootcamp \n- 10 hours of lectures and hand-on problem solving with - instructor every week\n- 4 modules and 4 real-world scenarios through mini-projects\n- Dedicated career support (30-45 minute bi-weekly meetings with career coach)\n- Teaching assistant available for questions and help\n- Conference rooms for group work\n"
    },
    {
      "metadata": {
        "slideshow": {
          "slide_type": "slide"
        }
      },
      "cell_type": "markdown",
      "source": "# What do we teach?\n\n- Entire lifecycle of data analysis:\n    - data collection and sourcing\n    - data pipeline engineering – cleansing, preparation, and structuring\n    - algorithm development: selecting machine learning and statistical models, application and testing, iteration and refinement\n- Adjunct skills:  Cloud, SQL, data communication and story telling, and project management, Tableau\n\n"
    }
  ],
  "metadata": {
    "kernelspec": {
      "name": "r",
      "display_name": "R",
      "language": "R"
    },
    "language_info": {
      "mimetype": "text/x-r-source",
      "name": "R",
      "pygments_lexer": "r",
      "version": "3.4.1",
      "file_extension": ".r",
      "codemirror_mode": "r"
    },
    "celltoolbar": "Slideshow"
  },
  "nbformat": 4,
  "nbformat_minor": 2
}