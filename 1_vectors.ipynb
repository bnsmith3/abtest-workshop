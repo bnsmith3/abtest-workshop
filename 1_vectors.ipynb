{
  "cells": [
    {
      "metadata": {
        "slideshow": {
          "slide_type": "slide"
        }
      },
      "cell_type": "markdown",
      "source": "# NOVA AB testing workshop\nIn you prefer to follow the workshop on your laptop, go to\n\n[http://novadataschool.com/abworkshop](http://novadataschool.com/abworkshop)\n\nWifi: MEC-Guest\n\nPassword: enterprise"
    },
    {
      "metadata": {
        "slideshow": {
          "slide_type": "slide"
        }
      },
      "cell_type": "markdown",
      "source": "# What will you learn today?\n- Basics of R (arithmetic operations and data operations)\n- Data manipulation techniques\n- Random variables \n- Confidence intervals methodology\n- We will apply those skills to analyze data set from a mobile game to decide on optimal game design\n"
    },
    {
      "metadata": {
        "slideshow": {
          "slide_type": "slide"
        }
      },
      "cell_type": "markdown",
      "source": "## Basic operations in R"
    },
    {
      "metadata": {
        "slideshow": {
          "slide_type": "-"
        }
      },
      "cell_type": "markdown",
      "source": "### Arithemtics"
    },
    {
      "metadata": {
        "trusted": true,
        "slideshow": {
          "slide_type": "-"
        }
      },
      "cell_type": "code",
      "source": "5+5 # add",
      "execution_count": 1,
      "outputs": [
        {
          "output_type": "display_data",
          "data": {
            "text/plain": "[1] 10",
            "text/latex": "10",
            "text/markdown": "10",
            "text/html": "10"
          },
          "metadata": {}
        }
      ]
    },
    {
      "metadata": {
        "trusted": true,
        "slideshow": {
          "slide_type": "-"
        }
      },
      "cell_type": "code",
      "source": "5-3 # substract",
      "execution_count": 2,
      "outputs": [
        {
          "output_type": "display_data",
          "data": {
            "text/plain": "[1] 2",
            "text/latex": "2",
            "text/markdown": "2",
            "text/html": "2"
          },
          "metadata": {}
        }
      ]
    },
    {
      "metadata": {
        "trusted": true
      },
      "cell_type": "code",
      "source": "2*3 # multiply",
      "execution_count": 3,
      "outputs": [
        {
          "output_type": "display_data",
          "data": {
            "text/plain": "[1] 6",
            "text/latex": "6",
            "text/markdown": "6",
            "text/html": "6"
          },
          "metadata": {}
        }
      ]
    },
    {
      "metadata": {
        "trusted": true,
        "slideshow": {
          "slide_type": "slide"
        }
      },
      "cell_type": "code",
      "source": "15/3 # divide",
      "execution_count": 4,
      "outputs": [
        {
          "output_type": "display_data",
          "data": {
            "text/plain": "[1] 5",
            "text/latex": "5",
            "text/markdown": "5",
            "text/html": "5"
          },
          "metadata": {}
        }
      ]
    },
    {
      "metadata": {
        "trusted": true
      },
      "cell_type": "code",
      "source": "(15-3)*2 # combine operations",
      "execution_count": 5,
      "outputs": [
        {
          "output_type": "display_data",
          "data": {
            "text/plain": "[1] 24",
            "text/latex": "24",
            "text/markdown": "24",
            "text/html": "24"
          },
          "metadata": {}
        }
      ]
    },
    {
      "metadata": {
        "slideshow": {
          "slide_type": "slide"
        }
      },
      "cell_type": "markdown",
      "source": "## Working with Data\nData is a sequence of numbers that reflect measurement of some quantity. We need to understand two types of numbers:\n- Binary (yes/no; left/right; 0/1; true/false)\n- Real (temperature, price of a stock, blood pressure)"
    },
    {
      "metadata": {
        "slideshow": {
          "slide_type": "slide"
        }
      },
      "cell_type": "markdown",
      "source": "#### Binary Numbers. \nFor example, I might ask 10 people if they like dark chocolate. If their answers were:"
    },
    {
      "metadata": {
        "trusted": true
      },
      "cell_type": "code",
      "source": "likeDarkChocolate <- c('Yes','No','Yes','No','No','No','Yes','No','No','No')\nlikeDarkChocolate",
      "execution_count": 6,
      "outputs": [
        {
          "output_type": "display_data",
          "data": {
            "text/plain": " [1] \"Yes\" \"No\"  \"Yes\" \"No\"  \"No\"  \"No\"  \"Yes\" \"No\"  \"No\"  \"No\" ",
            "text/latex": "\\begin{enumerate*}\n\\item 'Yes'\n\\item 'No'\n\\item 'Yes'\n\\item 'No'\n\\item 'No'\n\\item 'No'\n\\item 'Yes'\n\\item 'No'\n\\item 'No'\n\\item 'No'\n\\end{enumerate*}\n",
            "text/markdown": "1. 'Yes'\n2. 'No'\n3. 'Yes'\n4. 'No'\n5. 'No'\n6. 'No'\n7. 'Yes'\n8. 'No'\n9. 'No'\n10. 'No'\n\n\n",
            "text/html": "<ol class=list-inline>\n\t<li>'Yes'</li>\n\t<li>'No'</li>\n\t<li>'Yes'</li>\n\t<li>'No'</li>\n\t<li>'No'</li>\n\t<li>'No'</li>\n\t<li>'Yes'</li>\n\t<li>'No'</li>\n\t<li>'No'</li>\n\t<li>'No'</li>\n</ol>\n"
          },
          "metadata": {}
        }
      ]
    },
    {
      "metadata": {
        "slideshow": {
          "slide_type": "slide"
        }
      },
      "cell_type": "markdown",
      "source": "we could instead record these into truth values, using the == symbol which is a test for equality, returning the logical value TRUE if the two things are equal and FALSE if they are not:"
    },
    {
      "metadata": {
        "trusted": true
      },
      "cell_type": "code",
      "source": "\"Yes\"==\"No\"",
      "execution_count": 7,
      "outputs": [
        {
          "output_type": "display_data",
          "data": {
            "text/plain": "[1] FALSE",
            "text/latex": "FALSE",
            "text/markdown": "FALSE",
            "text/html": "FALSE"
          },
          "metadata": {}
        }
      ]
    },
    {
      "metadata": {
        "trusted": true
      },
      "cell_type": "code",
      "source": "\"Yes\"==\"Yes\"",
      "execution_count": 8,
      "outputs": [
        {
          "output_type": "display_data",
          "data": {
            "text/plain": "[1] TRUE",
            "text/latex": "TRUE",
            "text/markdown": "TRUE",
            "text/html": "TRUE"
          },
          "metadata": {}
        }
      ]
    },
    {
      "metadata": {
        "trusted": true
      },
      "cell_type": "code",
      "source": "# convert the yes/nos to true/false\nlikeDarkChocolateTF = likeDarkChocolate == 'Yes'\nlikeDarkChocolateTF",
      "execution_count": 9,
      "outputs": [
        {
          "output_type": "display_data",
          "data": {
            "text/plain": " [1]  TRUE FALSE  TRUE FALSE FALSE FALSE  TRUE FALSE FALSE FALSE",
            "text/latex": "\\begin{enumerate*}\n\\item TRUE\n\\item FALSE\n\\item TRUE\n\\item FALSE\n\\item FALSE\n\\item FALSE\n\\item TRUE\n\\item FALSE\n\\item FALSE\n\\item FALSE\n\\end{enumerate*}\n",
            "text/markdown": "1. TRUE\n2. FALSE\n3. TRUE\n4. FALSE\n5. FALSE\n6. FALSE\n7. TRUE\n8. FALSE\n9. FALSE\n10. FALSE\n\n\n",
            "text/html": "<ol class=list-inline>\n\t<li>TRUE</li>\n\t<li>FALSE</li>\n\t<li>TRUE</li>\n\t<li>FALSE</li>\n\t<li>FALSE</li>\n\t<li>FALSE</li>\n\t<li>TRUE</li>\n\t<li>FALSE</li>\n\t<li>FALSE</li>\n\t<li>FALSE</li>\n</ol>\n"
          },
          "metadata": {}
        }
      ]
    },
    {
      "metadata": {
        "slideshow": {
          "slide_type": "slide"
        }
      },
      "cell_type": "markdown",
      "source": "In most cases it is convenient to represent binary data as zeros and ones"
    },
    {
      "metadata": {
        "trusted": true
      },
      "cell_type": "code",
      "source": "as.integer(TRUE)",
      "execution_count": 10,
      "outputs": [
        {
          "output_type": "display_data",
          "data": {
            "text/plain": "[1] 1",
            "text/latex": "1",
            "text/markdown": "1",
            "text/html": "1"
          },
          "metadata": {}
        }
      ]
    },
    {
      "metadata": {
        "trusted": true
      },
      "cell_type": "code",
      "source": "as.integer(FALSE)",
      "execution_count": 11,
      "outputs": [
        {
          "output_type": "display_data",
          "data": {
            "text/plain": "[1] 0",
            "text/latex": "0",
            "text/markdown": "0",
            "text/html": "0"
          },
          "metadata": {}
        }
      ]
    },
    {
      "metadata": {
        "trusted": true
      },
      "cell_type": "code",
      "source": "# convert the true/false to 1/0\nlikeDarkChocolate01 = as.integer(likeDarkChocolateTF)\nlikeDarkChocolate01",
      "execution_count": 12,
      "outputs": [
        {
          "output_type": "display_data",
          "data": {
            "text/plain": " [1] 1 0 1 0 0 0 1 0 0 0",
            "text/latex": "\\begin{enumerate*}\n\\item 1\n\\item 0\n\\item 1\n\\item 0\n\\item 0\n\\item 0\n\\item 1\n\\item 0\n\\item 0\n\\item 0\n\\end{enumerate*}\n",
            "text/markdown": "1. 1\n2. 0\n3. 1\n4. 0\n5. 0\n6. 0\n7. 1\n8. 0\n9. 0\n10. 0\n\n\n",
            "text/html": "<ol class=list-inline>\n\t<li>1</li>\n\t<li>0</li>\n\t<li>1</li>\n\t<li>0</li>\n\t<li>0</li>\n\t<li>0</li>\n\t<li>1</li>\n\t<li>0</li>\n\t<li>0</li>\n\t<li>0</li>\n</ol>\n"
          },
          "metadata": {}
        }
      ]
    },
    {
      "metadata": {
        "slideshow": {
          "slide_type": "slide"
        }
      },
      "cell_type": "markdown",
      "source": "It makes it is easy to perform calculations on those binary vectors. For example, we can calculate how many people like dark chocolate"
    },
    {
      "metadata": {
        "trusted": true
      },
      "cell_type": "code",
      "source": "likeDarkChocolate01",
      "execution_count": 13,
      "outputs": [
        {
          "output_type": "display_data",
          "data": {
            "text/plain": " [1] 1 0 1 0 0 0 1 0 0 0",
            "text/latex": "\\begin{enumerate*}\n\\item 1\n\\item 0\n\\item 1\n\\item 0\n\\item 0\n\\item 0\n\\item 1\n\\item 0\n\\item 0\n\\item 0\n\\end{enumerate*}\n",
            "text/markdown": "1. 1\n2. 0\n3. 1\n4. 0\n5. 0\n6. 0\n7. 1\n8. 0\n9. 0\n10. 0\n\n\n",
            "text/html": "<ol class=list-inline>\n\t<li>1</li>\n\t<li>0</li>\n\t<li>1</li>\n\t<li>0</li>\n\t<li>0</li>\n\t<li>0</li>\n\t<li>1</li>\n\t<li>0</li>\n\t<li>0</li>\n\t<li>0</li>\n</ol>\n"
          },
          "metadata": {}
        }
      ]
    },
    {
      "metadata": {
        "trusted": true
      },
      "cell_type": "code",
      "source": "sum(likeDarkChocolate01)",
      "execution_count": 14,
      "outputs": [
        {
          "output_type": "display_data",
          "data": {
            "text/plain": "[1] 3",
            "text/latex": "3",
            "text/markdown": "3",
            "text/html": "3"
          },
          "metadata": {}
        }
      ]
    },
    {
      "metadata": {},
      "cell_type": "markdown",
      "source": "or we can calculate proportion of the people that like dark chocolate"
    },
    {
      "metadata": {
        "trusted": true
      },
      "cell_type": "code",
      "source": "mean(likeDarkChocolate01)",
      "execution_count": 15,
      "outputs": [
        {
          "output_type": "display_data",
          "data": {
            "text/plain": "[1] 0.3",
            "text/latex": "0.3",
            "text/markdown": "0.3",
            "text/html": "0.3"
          },
          "metadata": {}
        }
      ]
    },
    {
      "metadata": {
        "trusted": true
      },
      "cell_type": "code",
      "source": "# or alternatively use sum function\nsum(likeDarkChocolate01)/10",
      "execution_count": 16,
      "outputs": [
        {
          "output_type": "display_data",
          "data": {
            "text/plain": "[1] 0.3",
            "text/latex": "0.3",
            "text/markdown": "0.3",
            "text/html": "0.3"
          },
          "metadata": {}
        }
      ]
    },
    {
      "metadata": {
        "slideshow": {
          "slide_type": "slide"
        }
      },
      "cell_type": "markdown",
      "source": "#### Real Numbers\nMost commonly in statistics we work with real numbers, which have a fractional/decimal part. For example, we might measure someones weight, which can be measured to an arbitrary level of precision, from whole pounds down to micrograms. We can also use real numbers to measure temperature. For example, high temperature (F) forecast for next 8 days in DC is "
    },
    {
      "metadata": {
        "trusted": true
      },
      "cell_type": "code",
      "source": "temperaturedc = c(87,82,82,75,80,77,73,78)",
      "execution_count": 17,
      "outputs": []
    },
    {
      "metadata": {
        "trusted": true
      },
      "cell_type": "code",
      "source": "mean(temperaturedc) # average temperature",
      "execution_count": 18,
      "outputs": [
        {
          "output_type": "display_data",
          "data": {
            "text/plain": "[1] 79.25",
            "text/latex": "79.25",
            "text/markdown": "79.25",
            "text/html": "79.25"
          },
          "metadata": {}
        }
      ]
    },
    {
      "metadata": {
        "slideshow": {
          "slide_type": "slide"
        }
      },
      "cell_type": "markdown",
      "source": "### Data as a Matrix"
    },
    {
      "metadata": {
        "trusted": true
      },
      "cell_type": "code",
      "source": "# We store datasets as matrices\nd = read.csv(\"cookie_cats.csv\");\nhead(d)",
      "execution_count": 19,
      "outputs": [
        {
          "output_type": "display_data",
          "data": {
            "text/plain": "  userid version sum_gamerounds retention_1 retention_7\n1 116    gate_30   3            0           0          \n2 337    gate_30  38            1           0          \n3 377    gate_40 165            1           0          \n4 483    gate_40   1            0           0          \n5 488    gate_40 179            1           1          \n6 540    gate_40 187            1           1          ",
            "text/latex": "A data.frame: 6 x 5\n\\begin{tabular}{r|lllll}\n userid & version & sum\\_gamerounds & retention\\_1 & retention\\_7\\\\\n <int> & <fct> & <int> & <int> & <int>\\\\\n\\hline\n\t 116 & gate\\_30 &   3 & 0 & 0\\\\\n\t 337 & gate\\_30 &  38 & 1 & 0\\\\\n\t 377 & gate\\_40 & 165 & 1 & 0\\\\\n\t 483 & gate\\_40 &   1 & 0 & 0\\\\\n\t 488 & gate\\_40 & 179 & 1 & 1\\\\\n\t 540 & gate\\_40 & 187 & 1 & 1\\\\\n\\end{tabular}\n",
            "text/markdown": "\nA data.frame: 6 x 5\n\n| userid &lt;int&gt; | version &lt;fct&gt; | sum_gamerounds &lt;int&gt; | retention_1 &lt;int&gt; | retention_7 &lt;int&gt; |\n|---|---|---|---|---|\n| 116 | gate_30 |   3 | 0 | 0 |\n| 337 | gate_30 |  38 | 1 | 0 |\n| 377 | gate_40 | 165 | 1 | 0 |\n| 483 | gate_40 |   1 | 0 | 0 |\n| 488 | gate_40 | 179 | 1 | 1 |\n| 540 | gate_40 | 187 | 1 | 1 |\n\n",
            "text/html": "<table>\n<caption>A data.frame: 6 x 5</caption>\n<thead>\n\t<tr><th scope=col>userid</th><th scope=col>version</th><th scope=col>sum_gamerounds</th><th scope=col>retention_1</th><th scope=col>retention_7</th></tr>\n\t<tr><th scope=col>&lt;int&gt;</th><th scope=col>&lt;fct&gt;</th><th scope=col>&lt;int&gt;</th><th scope=col>&lt;int&gt;</th><th scope=col>&lt;int&gt;</th></tr>\n</thead>\n<tbody>\n\t<tr><td>116</td><td>gate_30</td><td>  3</td><td>0</td><td>0</td></tr>\n\t<tr><td>337</td><td>gate_30</td><td> 38</td><td>1</td><td>0</td></tr>\n\t<tr><td>377</td><td>gate_40</td><td>165</td><td>1</td><td>0</td></tr>\n\t<tr><td>483</td><td>gate_40</td><td>  1</td><td>0</td><td>0</td></tr>\n\t<tr><td>488</td><td>gate_40</td><td>179</td><td>1</td><td>1</td></tr>\n\t<tr><td>540</td><td>gate_40</td><td>187</td><td>1</td><td>1</td></tr>\n</tbody>\n</table>\n"
          },
          "metadata": {}
        }
      ]
    },
    {
      "metadata": {
        "slideshow": {
          "slide_type": "slide"
        }
      },
      "cell_type": "markdown",
      "source": "-  `userid`: unique user ID\n-  `version`: versions with different gates preventing the player’s progress, after 30 levels or after 40, these are recorded as gate_30 and gate_40\n- `sum_gamerounds`: number of rounds played by each unique user during the first 14 days after install\n- `retention_1`:  player is still active after 1 day\n- `retention_7`:  player is still active after 7 days"
    },
    {
      "metadata": {
        "trusted": true,
        "slideshow": {
          "slide_type": "slide"
        }
      },
      "cell_type": "code",
      "source": "# This data matrix (a.k.a frame) has 90189 rows \n# Each row is a different user and each column is user's attributes\n# dim gives results in row column format\ndim(d)",
      "execution_count": 20,
      "outputs": [
        {
          "output_type": "display_data",
          "data": {
            "text/plain": "[1] 90189     5",
            "text/latex": "\\begin{enumerate*}\n\\item 90189\n\\item 5\n\\end{enumerate*}\n",
            "text/markdown": "1. 90189\n2. 5\n\n\n",
            "text/html": "<ol class=list-inline>\n\t<li>90189</li>\n\t<li>5</li>\n</ol>\n"
          },
          "metadata": {}
        }
      ]
    },
    {
      "metadata": {
        "trusted": true,
        "scrolled": false
      },
      "cell_type": "code",
      "source": "# We can get a specific column by using $ and first 10 entries in this column by using 1:10 index\nd$sum_gamerounds[1:10]",
      "execution_count": 21,
      "outputs": [
        {
          "output_type": "display_data",
          "data": {
            "text/plain": " [1]   3  38 165   1 179 187   0   2 108 153",
            "text/latex": "\\begin{enumerate*}\n\\item 3\n\\item 38\n\\item 165\n\\item 1\n\\item 179\n\\item 187\n\\item 0\n\\item 2\n\\item 108\n\\item 153\n\\end{enumerate*}\n",
            "text/markdown": "1. 3\n2. 38\n3. 165\n4. 1\n5. 179\n6. 187\n7. 0\n8. 2\n9. 108\n10. 153\n\n\n",
            "text/html": "<ol class=list-inline>\n\t<li>3</li>\n\t<li>38</li>\n\t<li>165</li>\n\t<li>1</li>\n\t<li>179</li>\n\t<li>187</li>\n\t<li>0</li>\n\t<li>2</li>\n\t<li>108</li>\n\t<li>153</li>\n</ol>\n"
          },
          "metadata": {}
        }
      ]
    },
    {
      "metadata": {
        "trusted": true
      },
      "cell_type": "code",
      "source": "# or we can use index of the mpg column\nd[1:10,3] # gives me the firs column",
      "execution_count": 22,
      "outputs": [
        {
          "output_type": "display_data",
          "data": {
            "text/plain": " [1]   3  38 165   1 179 187   0   2 108 153",
            "text/latex": "\\begin{enumerate*}\n\\item 3\n\\item 38\n\\item 165\n\\item 1\n\\item 179\n\\item 187\n\\item 0\n\\item 2\n\\item 108\n\\item 153\n\\end{enumerate*}\n",
            "text/markdown": "1. 3\n2. 38\n3. 165\n4. 1\n5. 179\n6. 187\n7. 0\n8. 2\n9. 108\n10. 153\n\n\n",
            "text/html": "<ol class=list-inline>\n\t<li>3</li>\n\t<li>38</li>\n\t<li>165</li>\n\t<li>1</li>\n\t<li>179</li>\n\t<li>187</li>\n\t<li>0</li>\n\t<li>2</li>\n\t<li>108</li>\n\t<li>153</li>\n</ol>\n"
          },
          "metadata": {}
        }
      ]
    },
    {
      "metadata": {
        "trusted": true,
        "slideshow": {
          "slide_type": "slide"
        }
      },
      "cell_type": "code",
      "source": "d[1,] # gives me the firs row",
      "execution_count": 23,
      "outputs": [
        {
          "output_type": "display_data",
          "data": {
            "text/plain": "  userid version sum_gamerounds retention_1 retention_7\n1 116    gate_30 3              0           0          ",
            "text/latex": "A data.frame: 1 x 5\n\\begin{tabular}{r|lllll}\n userid & version & sum\\_gamerounds & retention\\_1 & retention\\_7\\\\\n <int> & <fct> & <int> & <int> & <int>\\\\\n\\hline\n\t 116 & gate\\_30 & 3 & 0 & 0\\\\\n\\end{tabular}\n",
            "text/markdown": "\nA data.frame: 1 x 5\n\n| userid &lt;int&gt; | version &lt;fct&gt; | sum_gamerounds &lt;int&gt; | retention_1 &lt;int&gt; | retention_7 &lt;int&gt; |\n|---|---|---|---|---|\n| 116 | gate_30 | 3 | 0 | 0 |\n\n",
            "text/html": "<table>\n<caption>A data.frame: 1 x 5</caption>\n<thead>\n\t<tr><th scope=col>userid</th><th scope=col>version</th><th scope=col>sum_gamerounds</th><th scope=col>retention_1</th><th scope=col>retention_7</th></tr>\n\t<tr><th scope=col>&lt;int&gt;</th><th scope=col>&lt;fct&gt;</th><th scope=col>&lt;int&gt;</th><th scope=col>&lt;int&gt;</th><th scope=col>&lt;int&gt;</th></tr>\n</thead>\n<tbody>\n\t<tr><td>116</td><td>gate_30</td><td>3</td><td>0</td><td>0</td></tr>\n</tbody>\n</table>\n"
          },
          "metadata": {}
        }
      ]
    },
    {
      "metadata": {
        "trusted": true,
        "slideshow": {
          "slide_type": "slide"
        }
      },
      "cell_type": "code",
      "source": "# we can select rows of super-players that played more than 2000 rounds\nd[d$sum_gamerounds>2000,]",
      "execution_count": 24,
      "outputs": [
        {
          "output_type": "display_data",
          "data": {
            "text/plain": "      userid  version sum_gamerounds retention_1 retention_7\n6537   725080 gate_40  2015          1           1          \n7913   871500 gate_30  2961          1           1          \n29418 3271615 gate_40  2640          1           0          \n36934 4090246 gate_40  2124          1           1          \n43672 4832608 gate_30  2438          1           1          \n46345 5133952 gate_30  2251          1           1          \n48189 5346171 gate_40  2294          1           1          \n57703 6390605 gate_30 49854          0           1          \n87008 9640085 gate_30  2156          1           1          \n88329 9791599 gate_40  2063          1           1          ",
            "text/latex": "A data.frame: 10 x 5\n\\begin{tabular}{r|lllll}\n  & userid & version & sum\\_gamerounds & retention\\_1 & retention\\_7\\\\\n  & <int> & <fct> & <int> & <int> & <int>\\\\\n\\hline\n\t6537 &  725080 & gate\\_40 &  2015 & 1 & 1\\\\\n\t7913 &  871500 & gate\\_30 &  2961 & 1 & 1\\\\\n\t29418 & 3271615 & gate\\_40 &  2640 & 1 & 0\\\\\n\t36934 & 4090246 & gate\\_40 &  2124 & 1 & 1\\\\\n\t43672 & 4832608 & gate\\_30 &  2438 & 1 & 1\\\\\n\t46345 & 5133952 & gate\\_30 &  2251 & 1 & 1\\\\\n\t48189 & 5346171 & gate\\_40 &  2294 & 1 & 1\\\\\n\t57703 & 6390605 & gate\\_30 & 49854 & 0 & 1\\\\\n\t87008 & 9640085 & gate\\_30 &  2156 & 1 & 1\\\\\n\t88329 & 9791599 & gate\\_40 &  2063 & 1 & 1\\\\\n\\end{tabular}\n",
            "text/markdown": "\nA data.frame: 10 x 5\n\n| <!--/--> | userid &lt;int&gt; | version &lt;fct&gt; | sum_gamerounds &lt;int&gt; | retention_1 &lt;int&gt; | retention_7 &lt;int&gt; |\n|---|---|---|---|---|---|\n| 6537 |  725080 | gate_40 |  2015 | 1 | 1 |\n| 7913 |  871500 | gate_30 |  2961 | 1 | 1 |\n| 29418 | 3271615 | gate_40 |  2640 | 1 | 0 |\n| 36934 | 4090246 | gate_40 |  2124 | 1 | 1 |\n| 43672 | 4832608 | gate_30 |  2438 | 1 | 1 |\n| 46345 | 5133952 | gate_30 |  2251 | 1 | 1 |\n| 48189 | 5346171 | gate_40 |  2294 | 1 | 1 |\n| 57703 | 6390605 | gate_30 | 49854 | 0 | 1 |\n| 87008 | 9640085 | gate_30 |  2156 | 1 | 1 |\n| 88329 | 9791599 | gate_40 |  2063 | 1 | 1 |\n\n",
            "text/html": "<table>\n<caption>A data.frame: 10 x 5</caption>\n<thead>\n\t<tr><th></th><th scope=col>userid</th><th scope=col>version</th><th scope=col>sum_gamerounds</th><th scope=col>retention_1</th><th scope=col>retention_7</th></tr>\n\t<tr><th></th><th scope=col>&lt;int&gt;</th><th scope=col>&lt;fct&gt;</th><th scope=col>&lt;int&gt;</th><th scope=col>&lt;int&gt;</th><th scope=col>&lt;int&gt;</th></tr>\n</thead>\n<tbody>\n\t<tr><th scope=row>6537</th><td> 725080</td><td>gate_40</td><td> 2015</td><td>1</td><td>1</td></tr>\n\t<tr><th scope=row>7913</th><td> 871500</td><td>gate_30</td><td> 2961</td><td>1</td><td>1</td></tr>\n\t<tr><th scope=row>29418</th><td>3271615</td><td>gate_40</td><td> 2640</td><td>1</td><td>0</td></tr>\n\t<tr><th scope=row>36934</th><td>4090246</td><td>gate_40</td><td> 2124</td><td>1</td><td>1</td></tr>\n\t<tr><th scope=row>43672</th><td>4832608</td><td>gate_30</td><td> 2438</td><td>1</td><td>1</td></tr>\n\t<tr><th scope=row>46345</th><td>5133952</td><td>gate_30</td><td> 2251</td><td>1</td><td>1</td></tr>\n\t<tr><th scope=row>48189</th><td>5346171</td><td>gate_40</td><td> 2294</td><td>1</td><td>1</td></tr>\n\t<tr><th scope=row>57703</th><td>6390605</td><td>gate_30</td><td>49854</td><td>0</td><td>1</td></tr>\n\t<tr><th scope=row>87008</th><td>9640085</td><td>gate_30</td><td> 2156</td><td>1</td><td>1</td></tr>\n\t<tr><th scope=row>88329</th><td>9791599</td><td>gate_40</td><td> 2063</td><td>1</td><td>1</td></tr>\n</tbody>\n</table>\n"
          },
          "metadata": {}
        }
      ]
    },
    {
      "metadata": {
        "trusted": true,
        "slideshow": {
          "slide_type": "slide"
        }
      },
      "cell_type": "code",
      "source": "# we can use mean function to calculate average number of rounds played by a user\nmean(d$sum_gamerounds)",
      "execution_count": 25,
      "outputs": [
        {
          "output_type": "display_data",
          "data": {
            "text/plain": "[1] 51.87246",
            "text/latex": "51.8724567297564",
            "text/markdown": "51.8724567297564",
            "text/html": "51.8724567297564"
          },
          "metadata": {}
        }
      ]
    },
    {
      "metadata": {
        "trusted": true
      },
      "cell_type": "code",
      "source": "# mean is just the sum of individual's number of rounds divided by number of users\nsum(d$sum_gamerounds)/90189",
      "execution_count": 30,
      "outputs": [
        {
          "output_type": "display_data",
          "data": {
            "text/plain": "[1] 51.87246",
            "text/latex": "51.8724567297564",
            "text/markdown": "51.8724567297564",
            "text/html": "51.8724567297564"
          },
          "metadata": {}
        }
      ]
    },
    {
      "metadata": {
        "trusted": true
      },
      "cell_type": "code",
      "source": "sum(d$sum_gamerounds)/dim(d)[1]",
      "execution_count": 29,
      "outputs": [
        {
          "output_type": "display_data",
          "data": {
            "text/plain": "[1] 51.87246",
            "text/latex": "51.8724567297564",
            "text/markdown": "51.8724567297564",
            "text/html": "51.8724567297564"
          },
          "metadata": {}
        }
      ]
    },
    {
      "metadata": {
        "trusted": true
      },
      "cell_type": "code",
      "source": "# average number of game rounds for people who were retained for 1 day\nmean(d$sum_gamerounds[d$retention_1==1])",
      "execution_count": 31,
      "outputs": [
        {
          "output_type": "display_data",
          "data": {
            "text/plain": "[1] 94.89747",
            "text/latex": "94.8974671880059",
            "text/markdown": "94.8974671880059",
            "text/html": "94.8974671880059"
          },
          "metadata": {}
        }
      ]
    },
    {
      "metadata": {
        "trusted": true
      },
      "cell_type": "code",
      "source": "",
      "execution_count": null,
      "outputs": []
    }
  ],
  "metadata": {
    "kernelspec": {
      "name": "r",
      "display_name": "R",
      "language": "R"
    },
    "language_info": {
      "mimetype": "text/x-r-source",
      "name": "R",
      "pygments_lexer": "r",
      "version": "3.4.1",
      "file_extension": ".r",
      "codemirror_mode": "r"
    },
    "celltoolbar": "Slideshow"
  },
  "nbformat": 4,
  "nbformat_minor": 2
}