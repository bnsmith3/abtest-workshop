{
  "cells": [
    {
      "metadata": {
        "slideshow": {
          "slide_type": "slide"
        }
      },
      "cell_type": "markdown",
      "source": "# 3. AB Testing for Optimal Game Design\n\n[Cookie Cats](https://www.facebook.com/cookiecatsgame) is a popular \"connect three\" puzzle for mobile devices. To win the level you need to connect tiles of the same color and clear the board.  Let's watch a [demo video](https://youtu.be/GaP5f0jVTWE)\n\nAs many of the games that can be downloaded for free, this game makes a free play somewhat annoying and asks you to wait some time when you enounter a gate as you progress through the levels \n<center><img src=\"cc_gates.png\" width=\"500\"></center>"
    },
    {
      "metadata": {
        "slideshow": {
          "slide_type": "slide"
        }
      },
      "cell_type": "markdown",
      "source": "## We test two different designs\nYou can get rid of the gates by making an in-app purchase.\n\nWe want to understand where those gates are to be placed. The game maker had two options, placing after level 30 and after level 40. The goal of the game maker is to maximize the number of rounds played by each player and to increase retention. We will use those metrics and confidence intervals technique we've learned to pick the best out of those two designs. \n\nWe start by loading libraries we need to read data from the csv file and to manipulate it."
    },
    {
      "metadata": {
        "trusted": true,
        "slideshow": {
          "slide_type": "slide"
        }
      },
      "cell_type": "code",
      "source": "# now we can read the data\nd = read.csv(\"cookie_cats.csv\");",
      "execution_count": 1,
      "outputs": []
    },
    {
      "metadata": {
        "trusted": true
      },
      "cell_type": "code",
      "source": "head(d) # show first 6 rows",
      "execution_count": 2,
      "outputs": [
        {
          "output_type": "display_data",
          "data": {
            "text/plain": "  userid version sum_gamerounds retention_1 retention_7\n1 116    gate_30   3            0           0          \n2 337    gate_30  38            1           0          \n3 377    gate_40 165            1           0          \n4 483    gate_40   1            0           0          \n5 488    gate_40 179            1           1          \n6 540    gate_40 187            1           1          ",
            "text/latex": "A data.frame: 6 x 5\n\\begin{tabular}{r|lllll}\n userid & version & sum\\_gamerounds & retention\\_1 & retention\\_7\\\\\n <int> & <fct> & <int> & <int> & <int>\\\\\n\\hline\n\t 116 & gate\\_30 &   3 & 0 & 0\\\\\n\t 337 & gate\\_30 &  38 & 1 & 0\\\\\n\t 377 & gate\\_40 & 165 & 1 & 0\\\\\n\t 483 & gate\\_40 &   1 & 0 & 0\\\\\n\t 488 & gate\\_40 & 179 & 1 & 1\\\\\n\t 540 & gate\\_40 & 187 & 1 & 1\\\\\n\\end{tabular}\n",
            "text/markdown": "\nA data.frame: 6 x 5\n\n| userid &lt;int&gt; | version &lt;fct&gt; | sum_gamerounds &lt;int&gt; | retention_1 &lt;int&gt; | retention_7 &lt;int&gt; |\n|---|---|---|---|---|\n| 116 | gate_30 |   3 | 0 | 0 |\n| 337 | gate_30 |  38 | 1 | 0 |\n| 377 | gate_40 | 165 | 1 | 0 |\n| 483 | gate_40 |   1 | 0 | 0 |\n| 488 | gate_40 | 179 | 1 | 1 |\n| 540 | gate_40 | 187 | 1 | 1 |\n\n",
            "text/html": "<table>\n<caption>A data.frame: 6 x 5</caption>\n<thead>\n\t<tr><th scope=col>userid</th><th scope=col>version</th><th scope=col>sum_gamerounds</th><th scope=col>retention_1</th><th scope=col>retention_7</th></tr>\n\t<tr><th scope=col>&lt;int&gt;</th><th scope=col>&lt;fct&gt;</th><th scope=col>&lt;int&gt;</th><th scope=col>&lt;int&gt;</th><th scope=col>&lt;int&gt;</th></tr>\n</thead>\n<tbody>\n\t<tr><td>116</td><td>gate_30</td><td>  3</td><td>0</td><td>0</td></tr>\n\t<tr><td>337</td><td>gate_30</td><td> 38</td><td>1</td><td>0</td></tr>\n\t<tr><td>377</td><td>gate_40</td><td>165</td><td>1</td><td>0</td></tr>\n\t<tr><td>483</td><td>gate_40</td><td>  1</td><td>0</td><td>0</td></tr>\n\t<tr><td>488</td><td>gate_40</td><td>179</td><td>1</td><td>1</td></tr>\n\t<tr><td>540</td><td>gate_40</td><td>187</td><td>1</td><td>1</td></tr>\n</tbody>\n</table>\n"
          },
          "metadata": {}
        }
      ]
    },
    {
      "metadata": {
        "slideshow": {
          "slide_type": "slide"
        }
      },
      "cell_type": "markdown",
      "source": "-  `userid`: unique user ID\n-  `version`: versions with different gates preventing the player’s progress, after 30 levels or after 40, these are recorded as gate_30 and gate_40\n - fct: factorial\n- `sum_gamerounds`: number of rounds played by each unique user during the first 14 days after install\n- `retention_1`:  player is still active after 1 day\n- `retention_7`:  player is still active after 7 days"
    },
    {
      "metadata": {
        "trusted": true,
        "slideshow": {
          "slide_type": "slide"
        }
      },
      "cell_type": "code",
      "source": "dim(d) # data has 90189 rows and 5 columns",
      "execution_count": 3,
      "outputs": [
        {
          "output_type": "display_data",
          "data": {
            "text/plain": "[1] 90189     5",
            "text/latex": "\\begin{enumerate*}\n\\item 90189\n\\item 5\n\\end{enumerate*}\n",
            "text/markdown": "1. 90189\n2. 5\n\n\n",
            "text/html": "<ol class=list-inline>\n\t<li>90189</li>\n\t<li>5</li>\n</ol>\n"
          },
          "metadata": {}
        }
      ]
    },
    {
      "metadata": {
        "trusted": true
      },
      "cell_type": "code",
      "source": "# Make sure we have two distinct versions \nunique(d$version)",
      "execution_count": 4,
      "outputs": [
        {
          "output_type": "display_data",
          "data": {
            "text/plain": "[1] gate_30 gate_40\nLevels: gate_30 gate_40",
            "text/latex": "\\begin{enumerate*}\n\\item gate\\_30\n\\item gate\\_40\n\\end{enumerate*}\n\n\\emph{Levels}: \\begin{enumerate*}\n\\item 'gate\\_30'\n\\item 'gate\\_40'\n\\end{enumerate*}\n",
            "text/markdown": "1. gate_30\n2. gate_40\n\n\n\n**Levels**: 1. 'gate_30'\n2. 'gate_40'\n\n\n",
            "text/html": "<ol class=list-inline>\n\t<li>gate_30</li>\n\t<li>gate_40</li>\n</ol>\n\n<details>\n\t<summary style=display:list-item;cursor:pointer>\n\t\t<strong>Levels</strong>:\n\t</summary>\n\t<ol class=list-inline>\n\t\t<li>'gate_30'</li>\n\t\t<li>'gate_40'</li>\n\t</ol>\n</details>"
          },
          "metadata": {}
        }
      ]
    },
    {
      "metadata": {
        "trusted": true,
        "slideshow": {
          "slide_type": "slide"
        }
      },
      "cell_type": "code",
      "source": "# Count number of unique users in each group\ngroup_30 = d[d$version == \"gate_30\",] #rows when gate_30 users are selected\ngroup_40 = d[d$version == \"gate_40\",] #rows when gate_40 users are selected\nnrow(group_30) # number of rows\nnrow(group_40) # number of rows",
      "execution_count": 5,
      "outputs": [
        {
          "output_type": "display_data",
          "data": {
            "text/plain": "[1] 44700",
            "text/latex": "44700",
            "text/markdown": "44700",
            "text/html": "44700"
          },
          "metadata": {}
        },
        {
          "output_type": "display_data",
          "data": {
            "text/plain": "[1] 45489",
            "text/latex": "45489",
            "text/markdown": "45489",
            "text/html": "45489"
          },
          "metadata": {}
        }
      ]
    },
    {
      "metadata": {
        "trusted": true,
        "slideshow": {
          "slide_type": "slide"
        }
      },
      "cell_type": "code",
      "source": "# People who have played < 100 rounds\npar(mar=c(4,4,0,1))\nhist(d$sum_gamerounds[d$sum_gamerounds<100], breaks=25, xlab=\"Game Rounds\", ylab=\"Number of Users\", main=\"\", col=\"lightblue\")",
      "execution_count": 9,
      "outputs": [
        {
          "output_type": "display_data",
          "data": {
            "image/png": "",
            "image/jpeg": "[encoded data removed]",
            "image/svg+xml": "<?xml version=\"1.0\" encoding=\"UTF-8\"?>\n<svg xmlns=\"http://www.w3.org/2000/svg\" xmlns:xlink=\"http://www.w3.org/1999/xlink\" width=\"288pt\" height=\"216pt\" viewBox=\"0 0 288 216\" version=\"1.1\">\n<defs>\n<g>\n<symbol overflow=\"visible\" id=\"glyph0-0\">\n<path style=\"stroke:none;\" d=\"\"/>\n</symbol>\n<symbol overflow=\"visible\" id=\"glyph0-1\">\n<path style=\"stroke:none;\" d=\"M 8.984375 -0.125 L 8.984375 -5.078125 L 4.921875 -5.078125 L 4.921875 -3.78125 L 7.703125 -3.78125 L 7.703125 -3.65625 C 7.703125 -2.03125 6.640625 -1.0625 4.96875 -1.0625 C 2.90625 -1.0625 1.84375 -2.421875 1.84375 -4.65625 C 1.84375 -6.890625 2.984375 -8.3125 4.90625 -8.3125 C 6.296875 -8.3125 7.15625 -7.65625 7.4375 -6.34375 L 8.890625 -6.34375 C 8.53125 -8.328125 7.015625 -9.59375 4.921875 -9.59375 C 2.140625 -9.59375 0.40625 -7.3125 0.40625 -4.59375 C 0.40625 -1.78125 2.265625 0.21875 4.71875 0.21875 C 5.96875 0.21875 7.03125 -0.25 7.765625 -1.046875 L 8.015625 0 L 8.984375 0 Z M 8.984375 -0.125 \"/>\n</symbol>\n<symbol overflow=\"visible\" id=\"glyph0-2\">\n<path style=\"stroke:none;\" d=\"M 6.8125 -0.15625 L 6.8125 -1.09375 C 6.578125 -1.046875 6.53125 -1.046875 6.46875 -1.046875 C 6.09375 -1.046875 6.03125 -1.09375 6.03125 -1.421875 L 6.03125 -5.078125 C 6.03125 -6.234375 5.046875 -7 3.4375 -7 C 1.84375 -7 0.734375 -6.25 0.65625 -4.609375 L 1.96875 -4.609375 C 2.078125 -5.53125 2.421875 -5.78125 3.40625 -5.78125 C 4.34375 -5.78125 4.71875 -5.546875 4.71875 -4.921875 L 4.71875 -4.65625 C 4.71875 -4.21875 4.59375 -4.15625 3.78125 -4.0625 C 2.296875 -3.875 2.078125 -3.828125 1.671875 -3.65625 C 0.90625 -3.34375 0.390625 -2.625 0.390625 -1.828125 C 0.390625 -0.640625 1.34375 0.1875 2.671875 0.1875 C 3.515625 0.1875 4.40625 -0.203125 4.828125 -0.640625 C 4.875 -0.40625 5.46875 0.09375 5.96875 0.09375 C 6.1875 0.09375 6.34375 0.0625 6.8125 -0.046875 Z M 4.71875 -2.390625 C 4.71875 -1.453125 3.90625 -0.984375 2.90625 -0.984375 C 2.09375 -0.984375 1.734375 -1.140625 1.734375 -1.84375 C 1.734375 -2.53125 2.078125 -2.71875 3.1875 -2.875 C 4.28125 -3.03125 4.515625 -3.078125 4.71875 -3.171875 Z M 4.71875 -2.390625 \"/>\n</symbol>\n<symbol overflow=\"visible\" id=\"glyph0-3\">\n<path style=\"stroke:none;\" d=\"M 9.625 -0.125 L 9.625 -5.03125 C 9.625 -6.21875 8.84375 -7 7.625 -7 C 6.75 -7 6.125 -6.6875 5.625 -6.09375 C 5.3125 -6.65625 4.703125 -7 3.84375 -7 C 2.96875 -7 2.296875 -6.625 1.734375 -5.84375 L 1.96875 -5.75 L 1.96875 -6.8125 L 0.75 -6.8125 L 0.75 0 L 2.046875 0 L 2.046875 -4.234375 C 2.046875 -5.1875 2.609375 -5.828125 3.46875 -5.828125 C 4.234375 -5.828125 4.53125 -5.46875 4.53125 -4.640625 L 4.53125 0 L 5.84375 0 L 5.84375 -4.234375 C 5.84375 -5.1875 6.40625 -5.828125 7.265625 -5.828125 C 8.03125 -5.828125 8.328125 -5.46875 8.328125 -4.640625 L 8.328125 0 L 9.625 0 Z M 9.625 -0.125 \"/>\n</symbol>\n<symbol overflow=\"visible\" id=\"glyph0-4\">\n<path style=\"stroke:none;\" d=\"M 6.53125 -3.09375 C 6.53125 -4.046875 6.46875 -4.65625 6.28125 -5.140625 C 5.84375 -6.21875 4.71875 -7 3.5 -7 C 1.671875 -7 0.359375 -5.515625 0.359375 -3.359375 C 0.359375 -1.21875 1.640625 0.1875 3.46875 0.1875 C 4.96875 0.1875 6.140625 -0.78125 6.421875 -2.25 L 5.125 -2.25 C 4.796875 -1.25 4.34375 -1.03125 3.515625 -1.03125 C 2.421875 -1.03125 1.734375 -1.59375 1.71875 -2.96875 L 6.53125 -2.96875 Z M 5.390625 -3.9375 C 5.390625 -3.9375 5.203125 -4.0625 5.21875 -4.09375 L 1.75 -4.09375 C 1.828125 -5.109375 2.4375 -5.78125 3.484375 -5.78125 C 4.515625 -5.78125 5.15625 -5.046875 5.15625 -4.03125 Z M 5.390625 -3.9375 \"/>\n</symbol>\n<symbol overflow=\"visible\" id=\"glyph0-5\">\n<path style=\"stroke:none;\" d=\"\"/>\n</symbol>\n<symbol overflow=\"visible\" id=\"glyph0-6\">\n<path style=\"stroke:none;\" d=\"M 8.609375 -0.125 L 8.609375 -0.46875 C 8.140625 -0.796875 8.078125 -1.03125 8.0625 -2.25 C 8.03125 -3.75 7.6875 -4.34375 6.703125 -4.765625 L 6.703125 -4.5 C 7.71875 -5 8.265625 -5.765625 8.265625 -6.796875 C 8.265625 -8.375 7.15625 -9.375 5.359375 -9.375 L 1.03125 -9.375 L 1.03125 0 L 2.453125 0 L 2.453125 -3.921875 L 5.328125 -3.921875 C 6.34375 -3.921875 6.703125 -3.546875 6.6875 -2.421875 L 6.671875 -1.609375 C 6.65625 -1.046875 6.78125 -0.5 7 0 L 8.609375 0 Z M 6.78125 -6.640625 C 6.78125 -5.5625 6.375 -5.21875 5.140625 -5.21875 L 2.453125 -5.21875 L 2.453125 -8.09375 L 5.140625 -8.09375 C 6.4375 -8.09375 6.78125 -7.65625 6.78125 -6.640625 Z M 6.78125 -6.640625 \"/>\n</symbol>\n<symbol overflow=\"visible\" id=\"glyph0-7\">\n<path style=\"stroke:none;\" d=\"M 6.5 -3.34375 C 6.5 -5.609375 5.28125 -7 3.40625 -7 C 1.5625 -7 0.3125 -5.59375 0.3125 -3.40625 C 0.3125 -1.203125 1.546875 0.1875 3.40625 0.1875 C 5.25 0.1875 6.5 -1.203125 6.5 -3.34375 Z M 5.15625 -3.359375 C 5.15625 -1.828125 4.5625 -1.03125 3.40625 -1.03125 C 2.25 -1.03125 1.65625 -1.8125 1.65625 -3.40625 C 1.65625 -4.96875 2.25 -5.78125 3.40625 -5.78125 C 4.59375 -5.78125 5.15625 -4.984375 5.15625 -3.359375 Z M 5.15625 -3.359375 \"/>\n</symbol>\n<symbol overflow=\"visible\" id=\"glyph0-8\">\n<path style=\"stroke:none;\" d=\"M 6.15625 -0.125 L 6.15625 -6.8125 L 4.84375 -6.8125 L 4.84375 -3.0625 C 4.84375 -1.71875 4.28125 -0.984375 3.203125 -0.984375 C 2.375 -0.984375 1.96875 -1.34375 1.96875 -2.140625 L 1.96875 -6.8125 L 0.671875 -6.8125 L 0.671875 -1.71875 C 0.671875 -0.640625 1.625 0.1875 2.90625 0.1875 C 3.859375 0.1875 4.5625 -0.1875 5.171875 -1.046875 L 4.953125 -1.140625 L 4.953125 0 L 6.15625 0 Z M 6.15625 -0.125 \"/>\n</symbol>\n<symbol overflow=\"visible\" id=\"glyph0-9\">\n<path style=\"stroke:none;\" d=\"M 6.21875 -0.125 L 6.21875 -5.078125 C 6.21875 -6.15625 5.28125 -7 4.015625 -7 C 3.03125 -7 2.3125 -6.578125 1.734375 -5.65625 L 1.96875 -5.578125 L 1.96875 -6.8125 L 0.734375 -6.8125 L 0.734375 0 L 2.03125 0 L 2.03125 -3.734375 C 2.03125 -5.078125 2.640625 -5.828125 3.703125 -5.828125 C 4.53125 -5.828125 4.90625 -5.453125 4.90625 -4.65625 L 4.90625 0 L 6.21875 0 Z M 6.21875 -0.125 \"/>\n</symbol>\n<symbol overflow=\"visible\" id=\"glyph0-10\">\n<path style=\"stroke:none;\" d=\"M 6.3125 -0.125 L 6.3125 -9.375 L 5.015625 -9.375 L 5.015625 -5.84375 L 5.234375 -5.9375 C 4.796875 -6.59375 4.015625 -7 3.140625 -7 C 1.4375 -7 0.1875 -5.546875 0.1875 -3.46875 C 0.1875 -1.25 1.40625 0.1875 3.171875 0.1875 C 4.078125 0.1875 4.78125 -0.1875 5.34375 -1 L 5.125 -1.09375 L 5.125 0 L 6.3125 0 Z M 5.015625 -3.375 C 5.015625 -1.859375 4.421875 -1.046875 3.328125 -1.046875 C 2.171875 -1.046875 1.53125 -1.875 1.53125 -3.40625 C 1.53125 -4.921875 2.171875 -5.765625 3.3125 -5.765625 C 4.4375 -5.765625 5.015625 -4.890625 5.015625 -3.375 Z M 5.015625 -3.375 \"/>\n</symbol>\n<symbol overflow=\"visible\" id=\"glyph0-11\">\n<path style=\"stroke:none;\" d=\"M 5.859375 -1.96875 C 5.859375 -2.9375 5.1875 -3.5625 3.890625 -3.875 L 2.890625 -4.109375 C 2.03125 -4.3125 1.796875 -4.453125 1.796875 -4.90625 C 1.796875 -5.515625 2.21875 -5.78125 3.0625 -5.78125 C 3.90625 -5.78125 4.21875 -5.53125 4.234375 -4.71875 L 5.59375 -4.71875 C 5.59375 -6.140625 4.609375 -7 3.09375 -7 C 1.578125 -7 0.453125 -6.078125 0.453125 -4.859375 C 0.453125 -3.84375 1.109375 -3.21875 2.65625 -2.84375 L 3.640625 -2.609375 C 4.359375 -2.4375 4.515625 -2.34375 4.515625 -1.875 C 4.515625 -1.265625 4.03125 -1.03125 3.125 -1.03125 C 2.1875 -1.03125 1.78125 -1.125 1.640625 -2.265625 L 0.28125 -2.265625 C 0.34375 -0.609375 1.328125 0.1875 3.03125 0.1875 C 4.6875 0.1875 5.859375 -0.703125 5.859375 -1.96875 Z M 5.859375 -1.96875 \"/>\n</symbol>\n<symbol overflow=\"visible\" id=\"glyph0-12\">\n<path style=\"stroke:none;\" d=\"M 6.46875 -4.390625 C 6.46875 -7.46875 5.359375 -9.125 3.4375 -9.125 C 1.53125 -9.125 0.40625 -7.4375 0.40625 -4.46875 C 0.40625 -1.46875 1.53125 0.1875 3.4375 0.1875 C 5.3125 0.1875 6.46875 -1.46875 6.46875 -4.390625 Z M 5.078125 -4.484375 C 5.078125 -1.96875 4.640625 -0.984375 3.40625 -0.984375 C 2.25 -0.984375 1.78125 -2.03125 1.78125 -4.453125 C 1.78125 -6.875 2.25 -7.890625 3.4375 -7.890625 C 4.625 -7.890625 5.078125 -6.859375 5.078125 -4.484375 Z M 5.078125 -4.484375 \"/>\n</symbol>\n<symbol overflow=\"visible\" id=\"glyph0-13\">\n<path style=\"stroke:none;\" d=\"M 6.515625 -6.390625 C 6.515625 -7.890625 5.21875 -9.125 3.546875 -9.125 C 1.734375 -9.125 0.546875 -8.0625 0.484375 -5.78125 L 1.84375 -5.78125 C 1.9375 -7.40625 2.421875 -7.90625 3.515625 -7.90625 C 4.515625 -7.90625 5.125 -7.3125 5.125 -6.359375 C 5.125 -5.65625 4.75 -5.15625 3.96875 -4.703125 L 2.8125 -4.046875 C 0.96875 -3 0.390625 -2.078125 0.28125 0 L 6.453125 0 L 6.453125 -1.34375 L 1.8125 -1.34375 C 1.90625 -1.9375 2.265625 -2.3125 3.34375 -2.953125 L 4.59375 -3.625 C 5.84375 -4.28125 6.515625 -5.296875 6.515625 -6.390625 Z M 6.515625 -6.390625 \"/>\n</symbol>\n<symbol overflow=\"visible\" id=\"glyph0-14\">\n<path style=\"stroke:none;\" d=\"M 6.625 -2.25 L 6.625 -3.375 L 5.3125 -3.375 L 5.3125 -9.125 L 4.296875 -9.125 L 0.21875 -3.453125 L 0.21875 -2.125 L 3.953125 -2.125 L 3.953125 0 L 5.3125 0 L 5.3125 -2.125 L 6.625 -2.125 Z M 4.09375 -3.375 L 1.5625 -3.375 L 4.171875 -7.03125 L 3.953125 -7.109375 L 3.953125 -3.375 Z M 4.09375 -3.375 \"/>\n</symbol>\n<symbol overflow=\"visible\" id=\"glyph0-15\">\n<path style=\"stroke:none;\" d=\"M 6.53125 -2.875 C 6.53125 -4.53125 5.28125 -5.78125 3.703125 -5.78125 C 2.828125 -5.78125 2.03125 -5.390625 1.5625 -4.734375 L 1.78125 -4.65625 C 1.796875 -6.8125 2.375 -7.890625 3.640625 -7.890625 C 4.40625 -7.890625 4.8125 -7.53125 5.015625 -6.546875 L 6.375 -6.546875 C 6.140625 -8.125 5.0625 -9.125 3.71875 -9.125 C 1.65625 -9.125 0.40625 -7.25 0.40625 -4.15625 C 0.40625 -1.40625 1.484375 0.1875 3.515625 0.1875 C 5.203125 0.1875 6.53125 -1.140625 6.53125 -2.875 Z M 5.15625 -2.78125 C 5.15625 -1.671875 4.53125 -1.046875 3.53125 -1.046875 C 2.5 -1.046875 1.84375 -1.71875 1.84375 -2.84375 C 1.84375 -3.953125 2.46875 -4.53125 3.5625 -4.53125 C 4.625 -4.53125 5.15625 -3.96875 5.15625 -2.78125 Z M 5.15625 -2.78125 \"/>\n</symbol>\n<symbol overflow=\"visible\" id=\"glyph0-16\">\n<path style=\"stroke:none;\" d=\"M 6.53125 -2.625 C 6.53125 -3.609375 5.90625 -4.4375 5.140625 -4.796875 C 5.890625 -5.25 6.21875 -5.78125 6.21875 -6.625 C 6.21875 -8.015625 5.015625 -9.125 3.4375 -9.125 C 1.875 -9.125 0.640625 -8.015625 0.640625 -6.625 C 0.640625 -5.796875 0.96875 -5.265625 1.71875 -4.796875 C 0.96875 -4.4375 0.328125 -3.609375 0.328125 -2.640625 C 0.328125 -1.015625 1.6875 0.1875 3.4375 0.1875 C 5.1875 0.1875 6.53125 -1.015625 6.53125 -2.625 Z M 4.84375 -6.59375 C 4.84375 -5.78125 4.359375 -5.359375 3.4375 -5.359375 C 2.515625 -5.359375 2.03125 -5.78125 2.03125 -6.609375 C 2.03125 -7.46875 2.515625 -7.890625 3.4375 -7.890625 C 4.375 -7.890625 4.84375 -7.46875 4.84375 -6.59375 Z M 5.15625 -2.609375 C 5.15625 -1.5625 4.53125 -1.046875 3.40625 -1.046875 C 2.34375 -1.046875 1.71875 -1.578125 1.71875 -2.609375 C 1.71875 -3.65625 2.34375 -4.171875 3.4375 -4.171875 C 4.53125 -4.171875 5.15625 -3.65625 5.15625 -2.609375 Z M 5.15625 -2.609375 \"/>\n</symbol>\n<symbol overflow=\"visible\" id=\"glyph0-17\">\n<path style=\"stroke:none;\" d=\"M 4.46875 -0.125 L 4.46875 -9.125 L 3.515625 -9.125 C 3.09375 -7.625 2.96875 -7.578125 1.140625 -7.34375 L 1.140625 -6.3125 L 3.09375 -6.3125 L 3.09375 0 L 4.46875 0 Z M 4.46875 -0.125 \"/>\n</symbol>\n<symbol overflow=\"visible\" id=\"glyph1-0\">\n<path style=\"stroke:none;\" d=\"\"/>\n</symbol>\n<symbol overflow=\"visible\" id=\"glyph1-1\">\n<path style=\"stroke:none;\" d=\"M -0.125 -8.203125 L -9.375 -8.203125 L -9.375 -6.84375 L -1.78125 -6.84375 L -1.875 -7.0625 L -9.375 -2.28125 L -9.375 -0.8125 L 0 -0.8125 L 0 -2.171875 L -7.515625 -2.171875 L -7.421875 -1.953125 L 0 -6.6875 L 0 -8.203125 Z M -0.125 -8.203125 \"/>\n</symbol>\n<symbol overflow=\"visible\" id=\"glyph1-2\">\n<path style=\"stroke:none;\" d=\"M -0.125 -6.15625 L -6.8125 -6.15625 L -6.8125 -4.84375 L -3.0625 -4.84375 C -1.71875 -4.84375 -0.984375 -4.28125 -0.984375 -3.203125 C -0.984375 -2.375 -1.34375 -1.96875 -2.140625 -1.96875 L -6.8125 -1.96875 L -6.8125 -0.671875 L -1.71875 -0.671875 C -0.640625 -0.671875 0.1875 -1.625 0.1875 -2.90625 C 0.1875 -3.859375 -0.1875 -4.5625 -1.046875 -5.171875 L -1.140625 -4.953125 L 0 -4.953125 L 0 -6.15625 Z M -0.125 -6.15625 \"/>\n</symbol>\n<symbol overflow=\"visible\" id=\"glyph1-3\">\n<path style=\"stroke:none;\" d=\"M -0.125 -9.625 L -5.03125 -9.625 C -6.21875 -9.625 -7 -8.84375 -7 -7.625 C -7 -6.75 -6.6875 -6.125 -6.09375 -5.625 C -6.65625 -5.3125 -7 -4.703125 -7 -3.84375 C -7 -2.96875 -6.625 -2.296875 -5.84375 -1.734375 L -5.75 -1.96875 L -6.8125 -1.96875 L -6.8125 -0.75 L 0 -0.75 L 0 -2.046875 L -4.234375 -2.046875 C -5.1875 -2.046875 -5.828125 -2.609375 -5.828125 -3.46875 C -5.828125 -4.234375 -5.46875 -4.53125 -4.640625 -4.53125 L 0 -4.53125 L 0 -5.84375 L -4.234375 -5.84375 C -5.1875 -5.84375 -5.828125 -6.40625 -5.828125 -7.265625 C -5.828125 -8.03125 -5.46875 -8.328125 -4.640625 -8.328125 L 0 -8.328125 L 0 -9.625 Z M -0.125 -9.625 \"/>\n</symbol>\n<symbol overflow=\"visible\" id=\"glyph1-4\">\n<path style=\"stroke:none;\" d=\"M -3.46875 -6.65625 C -5.59375 -6.65625 -7 -5.46875 -7 -3.734375 C -7 -2.84375 -6.609375 -2.09375 -5.875 -1.609375 L -5.78125 -1.84375 L -9.375 -1.84375 L -9.375 -0.53125 L 0 -0.53125 L 0 -1.734375 L -1.0625 -1.734375 L -0.96875 -1.515625 C -0.21875 -2.015625 0.1875 -2.78125 0.1875 -3.6875 C 0.1875 -5.40625 -1.34375 -6.65625 -3.46875 -6.65625 Z M -3.40625 -5.3125 C -1.921875 -5.3125 -1.046875 -4.671875 -1.046875 -3.53125 C -1.046875 -2.4375 -1.90625 -1.84375 -3.40625 -1.84375 C -4.9375 -1.84375 -5.8125 -2.4375 -5.765625 -3.53125 C -5.765625 -4.703125 -4.875 -5.3125 -3.40625 -5.3125 Z M -3.40625 -5.3125 \"/>\n</symbol>\n<symbol overflow=\"visible\" id=\"glyph1-5\">\n<path style=\"stroke:none;\" d=\"M -3.09375 -6.53125 C -4.046875 -6.53125 -4.65625 -6.46875 -5.140625 -6.28125 C -6.21875 -5.84375 -7 -4.71875 -7 -3.5 C -7 -1.671875 -5.515625 -0.359375 -3.359375 -0.359375 C -1.21875 -0.359375 0.1875 -1.640625 0.1875 -3.46875 C 0.1875 -4.96875 -0.78125 -6.140625 -2.25 -6.421875 L -2.25 -5.125 C -1.25 -4.796875 -1.03125 -4.34375 -1.03125 -3.515625 C -1.03125 -2.421875 -1.59375 -1.734375 -2.96875 -1.71875 L -2.96875 -6.53125 Z M -3.9375 -5.390625 C -3.9375 -5.390625 -4.0625 -5.203125 -4.09375 -5.21875 L -4.09375 -1.75 C -5.109375 -1.828125 -5.78125 -2.4375 -5.78125 -3.484375 C -5.78125 -4.515625 -5.046875 -5.15625 -4.03125 -5.15625 Z M -3.9375 -5.390625 \"/>\n</symbol>\n<symbol overflow=\"visible\" id=\"glyph1-6\">\n<path style=\"stroke:none;\" d=\"M -5.765625 -4.140625 L -6.9375 -4.140625 C -6.984375 -3.84375 -7 -3.75 -7 -3.609375 C -7 -2.9375 -6.546875 -2.328125 -5.578125 -1.71875 L -5.484375 -1.953125 L -6.8125 -1.953125 L -6.8125 -0.734375 L 0 -0.734375 L 0 -2.03125 L -3.53125 -2.03125 C -5 -2.03125 -5.609375 -2.40625 -5.640625 -4.140625 Z M -5.765625 -4.140625 \"/>\n</symbol>\n<symbol overflow=\"visible\" id=\"glyph1-7\">\n<path style=\"stroke:none;\" d=\"\"/>\n</symbol>\n<symbol overflow=\"visible\" id=\"glyph1-8\">\n<path style=\"stroke:none;\" d=\"M -3.34375 -6.5 C -5.609375 -6.5 -7 -5.28125 -7 -3.40625 C -7 -1.5625 -5.59375 -0.3125 -3.40625 -0.3125 C -1.203125 -0.3125 0.1875 -1.546875 0.1875 -3.40625 C 0.1875 -5.25 -1.203125 -6.5 -3.34375 -6.5 Z M -3.359375 -5.15625 C -1.828125 -5.15625 -1.03125 -4.5625 -1.03125 -3.40625 C -1.03125 -2.25 -1.8125 -1.65625 -3.40625 -1.65625 C -4.96875 -1.65625 -5.78125 -2.25 -5.78125 -3.40625 C -5.78125 -4.59375 -4.984375 -5.15625 -3.359375 -5.15625 Z M -3.359375 -5.15625 \"/>\n</symbol>\n<symbol overflow=\"visible\" id=\"glyph1-9\">\n<path style=\"stroke:none;\" d=\"M -5.828125 -3.34375 L -6.8125 -3.34375 L -6.8125 -2.265625 L -7.703125 -2.265625 C -8.140625 -2.265625 -8.234375 -2.390625 -8.234375 -2.859375 C -8.234375 -2.953125 -8.234375 -2.984375 -8.21875 -3.34375 L -9.3125 -3.34375 C -9.40625 -2.984375 -9.40625 -2.84375 -9.40625 -2.640625 C -9.40625 -1.671875 -8.71875 -0.96875 -7.78125 -0.96875 L -6.8125 -0.96875 L -6.8125 -0.09375 L -5.703125 -0.09375 L -5.703125 -0.96875 L 0 -0.96875 L 0 -2.265625 L -5.703125 -2.265625 L -5.703125 -3.34375 Z M -5.828125 -3.34375 \"/>\n</symbol>\n<symbol overflow=\"visible\" id=\"glyph1-10\">\n<path style=\"stroke:none;\" d=\"M -2.90625 -8.1875 L -9.375 -8.1875 L -9.375 -6.765625 L -2.90625 -6.765625 C -1.671875 -6.765625 -1.0625 -6.015625 -1.0625 -4.546875 C -1.0625 -3.1875 -1.578125 -2.34375 -2.90625 -2.34375 L -9.375 -2.34375 L -9.375 -0.921875 L -2.90625 -0.921875 C -1.046875 -0.921875 0.21875 -2.390625 0.21875 -4.546875 C 0.21875 -6.6875 -1.078125 -8.1875 -2.90625 -8.1875 Z M -2.90625 -8.1875 \"/>\n</symbol>\n<symbol overflow=\"visible\" id=\"glyph1-11\">\n<path style=\"stroke:none;\" d=\"M -1.96875 -5.859375 C -2.9375 -5.859375 -3.5625 -5.1875 -3.875 -3.890625 L -4.109375 -2.890625 C -4.3125 -2.03125 -4.453125 -1.796875 -4.90625 -1.796875 C -5.515625 -1.796875 -5.78125 -2.21875 -5.78125 -3.0625 C -5.78125 -3.90625 -5.53125 -4.21875 -4.71875 -4.234375 L -4.71875 -5.59375 C -6.140625 -5.59375 -7 -4.609375 -7 -3.09375 C -7 -1.578125 -6.078125 -0.453125 -4.859375 -0.453125 C -3.84375 -0.453125 -3.21875 -1.109375 -2.84375 -2.65625 L -2.609375 -3.640625 C -2.4375 -4.359375 -2.34375 -4.515625 -1.875 -4.515625 C -1.265625 -4.515625 -1.03125 -4.03125 -1.03125 -3.125 C -1.03125 -2.1875 -1.125 -1.78125 -2.265625 -1.640625 L -2.265625 -0.28125 C -0.609375 -0.34375 0.1875 -1.328125 0.1875 -3.03125 C 0.1875 -4.6875 -0.703125 -5.859375 -1.96875 -5.859375 Z M -1.96875 -5.859375 \"/>\n</symbol>\n<symbol overflow=\"visible\" id=\"glyph1-12\">\n<path style=\"stroke:none;\" d=\"M -4.390625 -6.46875 C -7.46875 -6.46875 -9.125 -5.359375 -9.125 -3.4375 C -9.125 -1.53125 -7.4375 -0.40625 -4.46875 -0.40625 C -1.46875 -0.40625 0.1875 -1.53125 0.1875 -3.4375 C 0.1875 -5.3125 -1.46875 -6.46875 -4.390625 -6.46875 Z M -4.484375 -5.078125 C -1.96875 -5.078125 -0.984375 -4.640625 -0.984375 -3.40625 C -0.984375 -2.25 -2.03125 -1.78125 -4.453125 -1.78125 C -6.875 -1.78125 -7.890625 -2.25 -7.890625 -3.4375 C -7.890625 -4.625 -6.859375 -5.078125 -4.484375 -5.078125 Z M -4.484375 -5.078125 \"/>\n</symbol>\n<symbol overflow=\"visible\" id=\"glyph1-13\">\n<path style=\"stroke:none;\" d=\"M -3.0625 -6.53125 C -4.8125 -6.53125 -6.09375 -5.25 -6.09375 -3.546875 C -6.09375 -2.921875 -5.890625 -2.328125 -5.71875 -2.09375 L -7.59375 -2.359375 L -7.59375 -6.078125 L -8.9375 -6.078125 L -8.9375 -1.25 L -4.03125 -0.546875 L -4.03125 -1.78125 C -4.6875 -2.328125 -4.859375 -2.65625 -4.859375 -3.34375 C -4.859375 -4.53125 -4.21875 -5.15625 -2.90625 -5.15625 C -1.640625 -5.15625 -1.046875 -4.546875 -1.046875 -3.34375 C -1.046875 -2.390625 -1.40625 -1.921875 -2.53125 -1.625 L -2.53125 -0.28125 C -0.640625 -0.65625 0.1875 -1.796875 0.1875 -3.375 C 0.1875 -5.15625 -1.1875 -6.53125 -3.0625 -6.53125 Z M -3.0625 -6.53125 \"/>\n</symbol>\n<symbol overflow=\"visible\" id=\"glyph1-14\">\n<path style=\"stroke:none;\" d=\"M -0.125 -4.46875 L -9.125 -4.46875 L -9.125 -3.515625 C -7.625 -3.09375 -7.578125 -2.96875 -7.34375 -1.140625 L -6.3125 -1.140625 L -6.3125 -3.09375 L 0 -3.09375 L 0 -4.46875 Z M -0.125 -4.46875 \"/>\n</symbol>\n<symbol overflow=\"visible\" id=\"glyph1-15\">\n<path style=\"stroke:none;\" d=\"M -6.390625 -6.515625 C -7.890625 -6.515625 -9.125 -5.21875 -9.125 -3.546875 C -9.125 -1.734375 -8.0625 -0.546875 -5.78125 -0.484375 L -5.78125 -1.84375 C -7.40625 -1.9375 -7.90625 -2.421875 -7.90625 -3.515625 C -7.90625 -4.515625 -7.3125 -5.125 -6.359375 -5.125 C -5.65625 -5.125 -5.15625 -4.75 -4.703125 -3.96875 L -4.046875 -2.8125 C -3 -0.96875 -2.078125 -0.390625 0 -0.28125 L 0 -6.453125 L -1.34375 -6.453125 L -1.34375 -1.8125 C -1.9375 -1.90625 -2.3125 -2.265625 -2.953125 -3.34375 L -3.625 -4.59375 C -4.28125 -5.84375 -5.296875 -6.515625 -6.390625 -6.515625 Z M -6.390625 -6.515625 \"/>\n</symbol>\n</g>\n</defs>\n<g id=\"surface302\">\n<rect x=\"0\" y=\"0\" width=\"288\" height=\"216\" style=\"fill:rgb(100%,100%,100%);fill-opacity:1;stroke:none;\"/>\n<g style=\"fill:rgb(0%,0%,0%);fill-opacity:1;\">\n  <use xlink:href=\"#glyph0-1\" x=\"125.308594\" y=\"214.558594\"/>\n  <use xlink:href=\"#glyph0-2\" x=\"135.03363\" y=\"214.558594\"/>\n  <use xlink:href=\"#glyph0-3\" x=\"141.983658\" y=\"214.558594\"/>\n  <use xlink:href=\"#glyph0-4\" x=\"152.396194\" y=\"214.558594\"/>\n  <use xlink:href=\"#glyph0-5\" x=\"159.346222\" y=\"214.558594\"/>\n  <use xlink:href=\"#glyph0-6\" x=\"162.821228\" y=\"214.558594\"/>\n  <use xlink:href=\"#glyph0-7\" x=\"171.846268\" y=\"214.558594\"/>\n  <use xlink:href=\"#glyph0-8\" x=\"178.796295\" y=\"214.558594\"/>\n  <use xlink:href=\"#glyph0-9\" x=\"185.746323\" y=\"214.558594\"/>\n  <use xlink:href=\"#glyph0-10\" x=\"192.69635\" y=\"214.558594\"/>\n  <use xlink:href=\"#glyph0-11\" x=\"199.646378\" y=\"214.558594\"/>\n</g>\n<g style=\"fill:rgb(0%,0%,0%);fill-opacity:1;\">\n  <use xlink:href=\"#glyph1-1\" x=\"12.960938\" y=\"126.429688\"/>\n  <use xlink:href=\"#glyph1-2\" x=\"12.960938\" y=\"117.404648\"/>\n  <use xlink:href=\"#glyph1-3\" x=\"12.960938\" y=\"110.45462\"/>\n  <use xlink:href=\"#glyph1-4\" x=\"12.960938\" y=\"100.042084\"/>\n  <use xlink:href=\"#glyph1-5\" x=\"12.960938\" y=\"93.092056\"/>\n  <use xlink:href=\"#glyph1-6\" x=\"12.960938\" y=\"86.142029\"/>\n  <use xlink:href=\"#glyph1-7\" x=\"12.960938\" y=\"81.979507\"/>\n  <use xlink:href=\"#glyph1-8\" x=\"12.960938\" y=\"78.504501\"/>\n  <use xlink:href=\"#glyph1-9\" x=\"12.960938\" y=\"71.554474\"/>\n  <use xlink:href=\"#glyph1-7\" x=\"12.960938\" y=\"68.079468\"/>\n  <use xlink:href=\"#glyph1-10\" x=\"12.960938\" y=\"64.604462\"/>\n  <use xlink:href=\"#glyph1-11\" x=\"12.960938\" y=\"55.579422\"/>\n  <use xlink:href=\"#glyph1-5\" x=\"12.960938\" y=\"49.329391\"/>\n  <use xlink:href=\"#glyph1-6\" x=\"12.960938\" y=\"42.379364\"/>\n  <use xlink:href=\"#glyph1-11\" x=\"12.960938\" y=\"38.216843\"/>\n</g>\n<path style=\"fill:none;stroke-width:1;stroke-linecap:round;stroke-linejoin:round;stroke:rgb(0%,0%,0%);stroke-opacity:1;stroke-miterlimit:10;\" d=\"M 65.601562 158.398438 L 265.601562 158.398438 \"/>\n<path style=\"fill:none;stroke-width:1;stroke-linecap:round;stroke-linejoin:round;stroke:rgb(0%,0%,0%);stroke-opacity:1;stroke-miterlimit:10;\" d=\"M 65.601562 158.398438 L 65.601562 165.601562 \"/>\n<path style=\"fill:none;stroke-width:1;stroke-linecap:round;stroke-linejoin:round;stroke:rgb(0%,0%,0%);stroke-opacity:1;stroke-miterlimit:10;\" d=\"M 105.601562 158.398438 L 105.601562 165.601562 \"/>\n<path style=\"fill:none;stroke-width:1;stroke-linecap:round;stroke-linejoin:round;stroke:rgb(0%,0%,0%);stroke-opacity:1;stroke-miterlimit:10;\" d=\"M 145.601562 158.398438 L 145.601562 165.601562 \"/>\n<path style=\"fill:none;stroke-width:1;stroke-linecap:round;stroke-linejoin:round;stroke:rgb(0%,0%,0%);stroke-opacity:1;stroke-miterlimit:10;\" d=\"M 185.601562 158.398438 L 185.601562 165.601562 \"/>\n<path style=\"fill:none;stroke-width:1;stroke-linecap:round;stroke-linejoin:round;stroke:rgb(0%,0%,0%);stroke-opacity:1;stroke-miterlimit:10;\" d=\"M 225.601562 158.398438 L 225.601562 165.601562 \"/>\n<path style=\"fill:none;stroke-width:1;stroke-linecap:round;stroke-linejoin:round;stroke:rgb(0%,0%,0%);stroke-opacity:1;stroke-miterlimit:10;\" d=\"M 265.601562 158.398438 L 265.601562 165.601562 \"/>\n<g style=\"fill:rgb(0%,0%,0%);fill-opacity:1;\">\n  <use xlink:href=\"#glyph0-12\" x=\"62.125\" y=\"185.761719\"/>\n</g>\n<g style=\"fill:rgb(0%,0%,0%);fill-opacity:1;\">\n  <use xlink:href=\"#glyph0-13\" x=\"98.652344\" y=\"185.761719\"/>\n  <use xlink:href=\"#glyph0-12\" x=\"105.602371\" y=\"185.761719\"/>\n</g>\n<g style=\"fill:rgb(0%,0%,0%);fill-opacity:1;\">\n  <use xlink:href=\"#glyph0-14\" x=\"138.652344\" y=\"185.761719\"/>\n  <use xlink:href=\"#glyph0-12\" x=\"145.602371\" y=\"185.761719\"/>\n</g>\n<g style=\"fill:rgb(0%,0%,0%);fill-opacity:1;\">\n  <use xlink:href=\"#glyph0-15\" x=\"178.652344\" y=\"185.761719\"/>\n  <use xlink:href=\"#glyph0-12\" x=\"185.602371\" y=\"185.761719\"/>\n</g>\n<g style=\"fill:rgb(0%,0%,0%);fill-opacity:1;\">\n  <use xlink:href=\"#glyph0-16\" x=\"218.652344\" y=\"185.761719\"/>\n  <use xlink:href=\"#glyph0-12\" x=\"225.602371\" y=\"185.761719\"/>\n</g>\n<g style=\"fill:rgb(0%,0%,0%);fill-opacity:1;\">\n  <use xlink:href=\"#glyph0-17\" x=\"255.175781\" y=\"185.761719\"/>\n  <use xlink:href=\"#glyph0-12\" x=\"262.125809\" y=\"185.761719\"/>\n  <use xlink:href=\"#glyph0-12\" x=\"269.075836\" y=\"185.761719\"/>\n</g>\n<path style=\"fill:none;stroke-width:1;stroke-linecap:round;stroke-linejoin:round;stroke:rgb(0%,0%,0%);stroke-opacity:1;stroke-miterlimit:10;\" d=\"M 57.601562 152.535156 L 57.601562 4.1875 \"/>\n<path style=\"fill:none;stroke-width:1;stroke-linecap:round;stroke-linejoin:round;stroke:rgb(0%,0%,0%);stroke-opacity:1;stroke-miterlimit:10;\" d=\"M 57.601562 152.535156 L 50.398438 152.535156 \"/>\n<path style=\"fill:none;stroke-width:1;stroke-linecap:round;stroke-linejoin:round;stroke:rgb(0%,0%,0%);stroke-opacity:1;stroke-miterlimit:10;\" d=\"M 57.601562 122.863281 L 50.398438 122.863281 \"/>\n<path style=\"fill:none;stroke-width:1;stroke-linecap:round;stroke-linejoin:round;stroke:rgb(0%,0%,0%);stroke-opacity:1;stroke-miterlimit:10;\" d=\"M 57.601562 93.195312 L 50.398438 93.195312 \"/>\n<path style=\"fill:none;stroke-width:1;stroke-linecap:round;stroke-linejoin:round;stroke:rgb(0%,0%,0%);stroke-opacity:1;stroke-miterlimit:10;\" d=\"M 57.601562 63.527344 L 50.398438 63.527344 \"/>\n<path style=\"fill:none;stroke-width:1;stroke-linecap:round;stroke-linejoin:round;stroke:rgb(0%,0%,0%);stroke-opacity:1;stroke-miterlimit:10;\" d=\"M 57.601562 33.855469 L 50.398438 33.855469 \"/>\n<path style=\"fill:none;stroke-width:1;stroke-linecap:round;stroke-linejoin:round;stroke:rgb(0%,0%,0%);stroke-opacity:1;stroke-miterlimit:10;\" d=\"M 57.601562 4.1875 L 50.398438 4.1875 \"/>\n<g style=\"fill:rgb(0%,0%,0%);fill-opacity:1;\">\n  <use xlink:href=\"#glyph1-12\" x=\"41.761719\" y=\"156.011719\"/>\n</g>\n<g style=\"fill:rgb(0%,0%,0%);fill-opacity:1;\">\n  <use xlink:href=\"#glyph1-13\" x=\"41.761719\" y=\"136.761719\"/>\n  <use xlink:href=\"#glyph1-12\" x=\"41.761719\" y=\"129.811691\"/>\n  <use xlink:href=\"#glyph1-12\" x=\"41.761719\" y=\"122.861664\"/>\n  <use xlink:href=\"#glyph1-12\" x=\"41.761719\" y=\"115.911636\"/>\n</g>\n<g style=\"fill:rgb(0%,0%,0%);fill-opacity:1;\">\n  <use xlink:href=\"#glyph1-14\" x=\"41.761719\" y=\"80.902344\"/>\n  <use xlink:href=\"#glyph1-13\" x=\"41.761719\" y=\"73.952316\"/>\n  <use xlink:href=\"#glyph1-12\" x=\"41.761719\" y=\"67.002289\"/>\n  <use xlink:href=\"#glyph1-12\" x=\"41.761719\" y=\"60.052261\"/>\n  <use xlink:href=\"#glyph1-12\" x=\"41.761719\" y=\"53.102234\"/>\n</g>\n<g style=\"fill:rgb(0%,0%,0%);fill-opacity:1;\">\n  <use xlink:href=\"#glyph1-15\" x=\"41.761719\" y=\"21.5625\"/>\n  <use xlink:href=\"#glyph1-13\" x=\"41.761719\" y=\"14.612473\"/>\n  <use xlink:href=\"#glyph1-12\" x=\"41.761719\" y=\"7.662445\"/>\n  <use xlink:href=\"#glyph1-12\" x=\"41.761719\" y=\"0.712418\"/>\n  <use xlink:href=\"#glyph1-12\" x=\"41.761719\" y=\"-6.23761\"/>\n</g>\n<path style=\"fill-rule:nonzero;fill:rgb(67.843137%,84.705882%,90.196078%);fill-opacity:1;stroke-width:1;stroke-linecap:round;stroke-linejoin:round;stroke:rgb(0%,0%,0%);stroke-opacity:1;stroke-miterlimit:10;\" d=\"M 65.601562 5.867188 L 75.601562 5.867188 L 75.601562 152.535156 L 65.601562 152.535156 Z M 65.601562 5.867188 \"/>\n<path style=\"fill-rule:nonzero;fill:rgb(67.843137%,84.705882%,90.196078%);fill-opacity:1;stroke-width:1;stroke-linecap:round;stroke-linejoin:round;stroke:rgb(0%,0%,0%);stroke-opacity:1;stroke-miterlimit:10;\" d=\"M 75.601562 85.648438 L 85.601562 85.648438 L 85.601562 152.535156 L 75.601562 152.535156 Z M 75.601562 85.648438 \"/>\n<path style=\"fill-rule:nonzero;fill:rgb(67.843137%,84.705882%,90.196078%);fill-opacity:1;stroke-width:1;stroke-linecap:round;stroke-linejoin:round;stroke:rgb(0%,0%,0%);stroke-opacity:1;stroke-miterlimit:10;\" d=\"M 85.601562 106.351562 L 95.601562 106.351562 L 95.601562 152.535156 L 85.601562 152.535156 Z M 85.601562 106.351562 \"/>\n<path style=\"fill-rule:nonzero;fill:rgb(67.843137%,84.705882%,90.196078%);fill-opacity:1;stroke-width:1;stroke-linecap:round;stroke-linejoin:round;stroke:rgb(0%,0%,0%);stroke-opacity:1;stroke-miterlimit:10;\" d=\"M 95.601562 116.753906 L 105.601562 116.753906 L 105.601562 152.535156 L 95.601562 152.535156 Z M 95.601562 116.753906 \"/>\n<path style=\"fill-rule:nonzero;fill:rgb(67.843137%,84.705882%,90.196078%);fill-opacity:1;stroke-width:1;stroke-linecap:round;stroke-linejoin:round;stroke:rgb(0%,0%,0%);stroke-opacity:1;stroke-miterlimit:10;\" d=\"M 105.601562 126.242188 L 115.601562 126.242188 L 115.601562 152.535156 L 105.601562 152.535156 Z M 105.601562 126.242188 \"/>\n<path style=\"fill-rule:nonzero;fill:rgb(67.843137%,84.705882%,90.196078%);fill-opacity:1;stroke-width:1;stroke-linecap:round;stroke-linejoin:round;stroke:rgb(0%,0%,0%);stroke-opacity:1;stroke-miterlimit:10;\" d=\"M 115.601562 132.78125 L 125.601562 132.78125 L 125.601562 152.535156 L 115.601562 152.535156 Z M 115.601562 132.78125 \"/>\n<path style=\"fill-rule:nonzero;fill:rgb(67.843137%,84.705882%,90.196078%);fill-opacity:1;stroke-width:1;stroke-linecap:round;stroke-linejoin:round;stroke:rgb(0%,0%,0%);stroke-opacity:1;stroke-miterlimit:10;\" d=\"M 125.601562 134.421875 L 135.601562 134.421875 L 135.601562 152.53125 L 125.601562 152.53125 Z M 125.601562 134.421875 \"/>\n<path style=\"fill-rule:nonzero;fill:rgb(67.843137%,84.705882%,90.196078%);fill-opacity:1;stroke-width:1;stroke-linecap:round;stroke-linejoin:round;stroke:rgb(0%,0%,0%);stroke-opacity:1;stroke-miterlimit:10;\" d=\"M 135.601562 136.589844 L 145.601562 136.589844 L 145.601562 152.535156 L 135.601562 152.535156 Z M 135.601562 136.589844 \"/>\n<path style=\"fill-rule:nonzero;fill:rgb(67.843137%,84.705882%,90.196078%);fill-opacity:1;stroke-width:1;stroke-linecap:round;stroke-linejoin:round;stroke:rgb(0%,0%,0%);stroke-opacity:1;stroke-miterlimit:10;\" d=\"M 145.601562 139.6875 L 155.601562 139.6875 L 155.601562 152.535156 L 145.601562 152.535156 Z M 145.601562 139.6875 \"/>\n<path style=\"fill-rule:nonzero;fill:rgb(67.843137%,84.705882%,90.196078%);fill-opacity:1;stroke-width:1;stroke-linecap:round;stroke-linejoin:round;stroke:rgb(0%,0%,0%);stroke-opacity:1;stroke-miterlimit:10;\" d=\"M 155.601562 141.195312 L 165.601562 141.195312 L 165.601562 152.535156 L 155.601562 152.535156 Z M 155.601562 141.195312 \"/>\n<path style=\"fill-rule:nonzero;fill:rgb(67.843137%,84.705882%,90.196078%);fill-opacity:1;stroke-width:1;stroke-linecap:round;stroke-linejoin:round;stroke:rgb(0%,0%,0%);stroke-opacity:1;stroke-miterlimit:10;\" d=\"M 165.601562 142.488281 L 175.601562 142.488281 L 175.601562 152.535156 L 165.601562 152.535156 Z M 165.601562 142.488281 \"/>\n<path style=\"fill-rule:nonzero;fill:rgb(67.843137%,84.705882%,90.196078%);fill-opacity:1;stroke-width:1;stroke-linecap:round;stroke-linejoin:round;stroke:rgb(0%,0%,0%);stroke-opacity:1;stroke-miterlimit:10;\" d=\"M 175.601562 143.886719 L 185.601562 143.886719 L 185.601562 152.53125 L 175.601562 152.53125 Z M 175.601562 143.886719 \"/>\n<path style=\"fill-rule:nonzero;fill:rgb(67.843137%,84.705882%,90.196078%);fill-opacity:1;stroke-width:1;stroke-linecap:round;stroke-linejoin:round;stroke:rgb(0%,0%,0%);stroke-opacity:1;stroke-miterlimit:10;\" d=\"M 185.601562 145.144531 L 195.601562 145.144531 L 195.601562 152.53125 L 185.601562 152.53125 Z M 185.601562 145.144531 \"/>\n<path style=\"fill-rule:nonzero;fill:rgb(67.843137%,84.705882%,90.196078%);fill-opacity:1;stroke-width:1;stroke-linecap:round;stroke-linejoin:round;stroke:rgb(0%,0%,0%);stroke-opacity:1;stroke-miterlimit:10;\" d=\"M 195.601562 145.648438 L 205.601562 145.648438 L 205.601562 152.53125 L 195.601562 152.53125 Z M 195.601562 145.648438 \"/>\n<path style=\"fill-rule:nonzero;fill:rgb(67.843137%,84.705882%,90.196078%);fill-opacity:1;stroke-width:1;stroke-linecap:round;stroke-linejoin:round;stroke:rgb(0%,0%,0%);stroke-opacity:1;stroke-miterlimit:10;\" d=\"M 205.601562 146.511719 L 215.601562 146.511719 L 215.601562 152.535156 L 205.601562 152.535156 Z M 205.601562 146.511719 \"/>\n<path style=\"fill-rule:nonzero;fill:rgb(67.843137%,84.705882%,90.196078%);fill-opacity:1;stroke-width:1;stroke-linecap:round;stroke-linejoin:round;stroke:rgb(0%,0%,0%);stroke-opacity:1;stroke-miterlimit:10;\" d=\"M 215.601562 147.210938 L 225.601562 147.210938 L 225.601562 152.535156 L 215.601562 152.535156 Z M 215.601562 147.210938 \"/>\n<path style=\"fill-rule:nonzero;fill:rgb(67.843137%,84.705882%,90.196078%);fill-opacity:1;stroke-width:1;stroke-linecap:round;stroke-linejoin:round;stroke:rgb(0%,0%,0%);stroke-opacity:1;stroke-miterlimit:10;\" d=\"M 225.601562 147.632812 L 235.601562 147.632812 L 235.601562 152.535156 L 225.601562 152.535156 Z M 225.601562 147.632812 \"/>\n<path style=\"fill-rule:nonzero;fill:rgb(67.843137%,84.705882%,90.196078%);fill-opacity:1;stroke-width:1;stroke-linecap:round;stroke-linejoin:round;stroke:rgb(0%,0%,0%);stroke-opacity:1;stroke-miterlimit:10;\" d=\"M 235.601562 148.023438 L 245.601562 148.023438 L 245.601562 152.53125 L 235.601562 152.53125 Z M 235.601562 148.023438 \"/>\n<path style=\"fill-rule:nonzero;fill:rgb(67.843137%,84.705882%,90.196078%);fill-opacity:1;stroke-width:1;stroke-linecap:round;stroke-linejoin:round;stroke:rgb(0%,0%,0%);stroke-opacity:1;stroke-miterlimit:10;\" d=\"M 245.601562 148.386719 L 255.601562 148.386719 L 255.601562 152.535156 L 245.601562 152.535156 Z M 245.601562 148.386719 \"/>\n<path style=\"fill-rule:nonzero;fill:rgb(67.843137%,84.705882%,90.196078%);fill-opacity:1;stroke-width:1;stroke-linecap:round;stroke-linejoin:round;stroke:rgb(0%,0%,0%);stroke-opacity:1;stroke-miterlimit:10;\" d=\"M 255.601562 149.304688 L 265.601562 149.304688 L 265.601562 152.53125 L 255.601562 152.53125 Z M 255.601562 149.304688 \"/>\n</g>\n</svg>\n"
          },
          "metadata": {
            "image/svg+xml": {
              "isolated": true
            }
          }
        }
      ]
    },
    {
      "metadata": {
        "trusted": true,
        "slideshow": {
          "slide_type": "slide"
        }
      },
      "cell_type": "code",
      "source": "# Count average retention after 1 day by group\noptions(digits=1) # only show 1 significant digit when printing numbers (I think you have to use print for it to work)\nmean(group_30$retention_1) # 44.8%\nmean(group_40$retention_1) # 44.2%",
      "execution_count": 13,
      "outputs": [
        {
          "output_type": "display_data",
          "data": {
            "text/plain": "[1] 0.4",
            "text/latex": "0.448187919463087",
            "text/markdown": "0.448187919463087",
            "text/html": "0.448187919463087"
          },
          "metadata": {}
        },
        {
          "output_type": "stream",
          "text": "[1] 0.4\n",
          "name": "stdout"
        }
      ]
    },
    {
      "metadata": {
        "trusted": true,
        "slideshow": {
          "slide_type": "slide"
        }
      },
      "cell_type": "code",
      "source": "# Count average retention after 7 days by group\nmean(group_30$retention_7) # 19%\nmean(group_40$retention_7) # 18.2%",
      "execution_count": 11,
      "outputs": [
        {
          "output_type": "display_data",
          "data": {
            "text/plain": "[1] 0.2",
            "text/latex": "0.190201342281879",
            "text/markdown": "0.190201342281879",
            "text/html": "0.190201342281879"
          },
          "metadata": {}
        },
        {
          "output_type": "display_data",
          "data": {
            "text/plain": "[1] 0.2",
            "text/latex": "0.182000043966673",
            "text/markdown": "0.182000043966673",
            "text/html": "0.182000043966673"
          },
          "metadata": {}
        }
      ]
    },
    {
      "metadata": {
        "trusted": true,
        "slideshow": {
          "slide_type": "slide"
        }
      },
      "cell_type": "code",
      "source": "# Count average numper of rounds by group\nmean(group_30$sum_gamerounds) # 52.5\nmean(group_40$sum_gamerounds) # 51.3",
      "execution_count": 12,
      "outputs": [
        {
          "output_type": "display_data",
          "data": {
            "text/plain": "[1] 52",
            "text/latex": "52.4562639821029",
            "text/markdown": "52.4562639821029",
            "text/html": "52.4562639821029"
          },
          "metadata": {}
        },
        {
          "output_type": "display_data",
          "data": {
            "text/plain": "[1] 51",
            "text/latex": "51.2987755281497",
            "text/markdown": "51.2987755281497",
            "text/html": "51.2987755281497"
          },
          "metadata": {}
        }
      ]
    },
    {
      "metadata": {
        "trusted": true,
        "slideshow": {
          "slide_type": "slide"
        }
      },
      "cell_type": "markdown",
      "source": "The difference between retention rates after 1 day in `gate_30` group is <font color=blue>44.8%</font> and in `gate_40` group is <font color=blue>44.2%</font>. The difference is too small to make a certain statement. \n\n<center>Let's calculate the confidence interval!</center>"
    },
    {
      "metadata": {
        "trusted": true,
        "slideshow": {
          "slide_type": "slide"
        }
      },
      "cell_type": "code",
      "source": "# We put our code to calculate a confidence interval inside a function\n\n# we always assume that means are normally distributed\nconfidence_interval = function(x) \n{\n    n = length(x)\n    xbar = sum(x)/n\n    sigma2 = sum((x-xbar)^2)/n\n    sigma = sqrt(sigma2)\n    SEM = sigma/sqrt(n)\n\n    cat(sprintf(\"Number of samples is %d\\n\", n))\n    cat(sprintf(\"xbar is %.2f\\n\", xbar))\n    cat(sprintf(\"sigma is %.2f\\n\", sigma))\n    cat(sprintf(\"SEM is %.3f\\n\", SEM))\n    cat(sprintf(\"The confidence interval is [%.3f,%.3f]\", xbar-1.96*SEM, xbar+1.96*SEM))\n}",
      "execution_count": 22,
      "outputs": []
    },
    {
      "metadata": {
        "trusted": true,
        "slideshow": {
          "slide_type": "slide"
        }
      },
      "cell_type": "code",
      "source": "confidence_interval(group_30$retention_1)",
      "execution_count": 15,
      "outputs": [
        {
          "output_type": "stream",
          "text": "Number of samples is 44700\nxbar is 0.45\nsigma is 0.50\nSEM is 0.002\nThe confidence interval is [0.444,0.453]",
          "name": "stdout"
        }
      ]
    },
    {
      "metadata": {
        "trusted": true,
        "slideshow": {
          "slide_type": "slide"
        }
      },
      "cell_type": "code",
      "source": "confidence_interval(group_40$retention_1)",
      "execution_count": 16,
      "outputs": [
        {
          "output_type": "stream",
          "text": "Number of samples is 45489\nxbar is 0.44\nsigma is 0.50\nSEM is 0.002\nThe confidence interval is [0.438,0.447]",
          "name": "stdout"
        }
      ]
    },
    {
      "metadata": {
        "trusted": true,
        "slideshow": {
          "slide_type": "slide"
        }
      },
      "cell_type": "code",
      "source": "confidence_interval(group_30$retention_7)",
      "execution_count": 17,
      "outputs": [
        {
          "output_type": "stream",
          "text": "Number of samples is 44700\nxbar is 0.19\nsigma is 0.39\nSEM is 0.002\nThe confidence interval is [0.187,0.194]",
          "name": "stdout"
        }
      ]
    },
    {
      "metadata": {
        "trusted": true,
        "slideshow": {
          "slide_type": "slide"
        }
      },
      "cell_type": "code",
      "source": "confidence_interval(group_40$retention_7)",
      "execution_count": 18,
      "outputs": [
        {
          "output_type": "stream",
          "text": "Number of samples is 45489\nxbar is 0.18\nsigma is 0.39\nSEM is 0.002\nThe confidence interval is [0.178,0.186]",
          "name": "stdout"
        }
      ]
    },
    {
      "metadata": {
        "trusted": true,
        "slideshow": {
          "slide_type": "slide"
        }
      },
      "cell_type": "code",
      "source": "confidence_interval(group_30$sum_gamerounds)",
      "execution_count": 19,
      "outputs": [
        {
          "output_type": "stream",
          "text": "Number of samples is 44700\nxbar is 52.46\nsigma is 256.71\nSEM is 1.214\nThe confidence interval is [50.076,54.836]",
          "name": "stdout"
        }
      ]
    },
    {
      "metadata": {
        "trusted": true,
        "slideshow": {
          "slide_type": "slide"
        }
      },
      "cell_type": "code",
      "source": "confidence_interval(group_40$sum_gamerounds)",
      "execution_count": 20,
      "outputs": [
        {
          "output_type": "stream",
          "text": "Number of samples is 45489\nxbar is 51.30\nsigma is 103.29\nSEM is 0.484\nThe confidence interval is [50.350,52.248]",
          "name": "stdout"
        }
      ]
    },
    {
      "metadata": {
        "slideshow": {
          "slide_type": "slide"
        }
      },
      "cell_type": "markdown",
      "source": "Let's summarize our findings and make conclusions. Here is the table with all of the confidence intervals \n\n|             | `retention_1`   | `retention_7`       | `sum_gamerounds`  |\n|-------------|---------------|-------------------|-----------------|\n| gate_30     | [0.444,0.453] | [0.187,0.194]     | [50.076,54.836] |\n| gate_40     | [0.438,0.447] | [0.178,0.186]     | [50.350,52.248] |\n| Observation | Overlap       | No Overlap        | Overlap         |\n| Decision    | No Difference | gate_30 is better | No Difference   |\n\n&nbsp;\n<center>\n    <font size=6>The conclusion is</font>\n</center>\n&nbsp;\n- <font color = red>`retention_1` `and sum_gamerounds` are not effected by change from `gate_30` to `gate_40`</font>\n- <font color = green> but `retention_7` is worse for `gate_40` design</font>\n"
    },
    {
      "metadata": {
        "slideshow": {
          "slide_type": "slide"
        }
      },
      "cell_type": "markdown",
      "source": "# What have we learned?\n- Basisc of R (arithmetic operations and data operations)\n- Data manipulation techniques\n- Random variables \n- Confidence intervals methodology\n- We applied those skills to analyse data set from a mobile game to decide on optimal game design"
    }
  ],
  "metadata": {
    "kernelspec": {
      "name": "r",
      "display_name": "R",
      "language": "R"
    },
    "language_info": {
      "mimetype": "text/x-r-source",
      "name": "R",
      "pygments_lexer": "r",
      "version": "3.4.1",
      "file_extension": ".r",
      "codemirror_mode": "r"
    },
    "celltoolbar": "Slideshow"
  },
  "nbformat": 4,
  "nbformat_minor": 2
}